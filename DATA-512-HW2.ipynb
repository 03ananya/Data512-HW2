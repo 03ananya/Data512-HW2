{
 "cells": [
  {
   "cell_type": "markdown",
   "metadata": {
    "tags": []
   },
   "source": [
    "# Homework 2\n",
    "\n",
    "\n",
    "## License\n",
    "This code has been developed by leveraging an example code that was developed by Dr. David W. McDonald for use in DATA 512, a course in the UW MS Data Science degree program. This code is provided under the [Creative Commons](https://creativecommons.org) [CC-BY license](https://creativecommons.org/licenses/by/4.0/). Revision 1.0 - May 13, 2022\n",
    "Some code snippets have also been derived from the internet and tweaked as per usage."
   ]
  },
  {
   "cell_type": "code",
   "execution_count": 342,
   "metadata": {
    "tags": []
   },
   "outputs": [],
   "source": [
    "\n",
    "# These are standard python modules\n",
    "import json, time, urllib.parse\n",
    "import requests"
   ]
  },
  {
   "cell_type": "markdown",
   "metadata": {},
   "source": [
    "The example relies on some constants that help make the code a bit more readable."
   ]
  },
  {
   "cell_type": "code",
   "execution_count": 132,
   "metadata": {
    "tags": []
   },
   "outputs": [],
   "source": [
    "#########\n",
    "#\n",
    "#    CONSTANTS\n",
    "#\n",
    "\n",
    "# The current ORES API endpoint\n",
    "API_ORES_SCORE_ENDPOINT = \"https://ores.wikimedia.org/v3\"\n",
    "# A template for mapping to the URL\n",
    "API_ORES_SCORE_PARAMS = \"/scores/{context}/{revid}/{model}\"\n",
    "\n",
    "# Use some delays so that we do not hammer the API with our requests\n",
    "API_LATENCY_ASSUMED = 0.002       # Assuming roughly 2ms latency on the API and network\n",
    "API_THROTTLE_WAIT = (1.0/100.0)-API_LATENCY_ASSUMED\n",
    "\n",
    "# When making automated requests we should include something that is unique to the person making the request\n",
    "# This should include an email - your UW email would be good to put in there\n",
    "REQUEST_HEADERS = {\n",
    "    'User-Agent': '<ananya03@uw.edu>, University of Washington, MSDS DATA 512 - AUTUMN 2022'\n",
    "}\n",
    "\n",
    "# A dictionary of English Wikipedia article titles (keys) and sample revision IDs that can be used for this ORES scoring example\n",
    "ARTICLE_REVISIONS = { 'Bison':1085687913 , 'Northern flicker':1086582504 , 'Red squirrel':1083787665 , 'Chinook salmon':1085406228 , 'Horseshoe bat':1060601936 }\n",
    "\n",
    "# This template lists the basic parameters for making an ORES request\n",
    "ORES_PARAMS_TEMPLATE = {\n",
    "    \"context\": \"enwiki\",        # which WMF project for the specified revid\n",
    "    \"revid\" : \"\",               # the revision to be scored - this will probably change each call\n",
    "    \"model\": \"articlequality\"   # the AI/ML scoring model to apply to the reviewion\n",
    "}\n",
    "#\n",
    "\n",
    "#########\n",
    "#\n",
    "#    CONSTANTS\n",
    "#\n",
    "\n",
    "# The basic English Wikipedia API endpoint\n",
    "API_ENWIKIPEDIA_ENDPOINT = \"https://en.wikipedia.org/w/api.php\"\n",
    "\n",
    "# We'll assume that there needs to be some throttling for these requests - we should always be nice to a free data resource\n",
    "API_LATENCY_ASSUMED = 0.002       # Assuming roughly 2ms latency on the API and network\n",
    "API_THROTTLE_WAIT = (1.0/100.0)-API_LATENCY_ASSUMED\n",
    "\n",
    "# When making automated requests we should include something that is unique to the person making the request\n",
    "# This should include an email - your UW email would be good to put in there\n",
    "REQUEST_HEADERS = {\n",
    "    'User-Agent': '<ananya03@uw.edu>, University of Washington, MSDS DATA 512 - AUTUMN 2022',\n",
    "}\n",
    "\n",
    "# This is just a list of English Wikipedia article titles that we can use for example requests\n",
    "#ARTICLE_TITLES = df_politicians['name'].to_list()\n",
    "\n",
    "# This is a string of additional page properties that can be returned see the Info documentation for\n",
    "# what can be included. If you don't want any this can simply be the empty string\n",
    "PAGEINFO_EXTENDED_PROPERTIES = \"talkid|url|watched|watchers\"\n",
    "#PAGEINFO_EXTENDED_PROPERTIES = \"\"\n",
    "\n",
    "# This template lists the basic parameters for making this\n",
    "PAGEINFO_PARAMS_TEMPLATE = {\n",
    "    \"action\": \"query\",\n",
    "    \"format\": \"json\",\n",
    "    \"titles\": \"\",           # to simplify this should be a single page title at a time\n",
    "    \"prop\": \"info\",\n",
    "    \"inprop\": PAGEINFO_EXTENDED_PROPERTIES\n",
    "}\n"
   ]
  },
  {
   "cell_type": "code",
   "execution_count": 240,
   "metadata": {},
   "outputs": [],
   "source": [
    "# These are standard python modules\n",
    "import json, time, urllib.parse\n",
    "import pandas as pd\n",
    "import numpy as np\n",
    "import re\n",
    "import requests\n",
    "import matplotlib.pyplot as plt\n",
    "from datetime import datetime"
   ]
  },
  {
   "cell_type": "code",
   "execution_count": 241,
   "metadata": {},
   "outputs": [
    {
     "data": {
      "text/html": [
       "<div>\n",
       "<style scoped>\n",
       "    .dataframe tbody tr th:only-of-type {\n",
       "        vertical-align: middle;\n",
       "    }\n",
       "\n",
       "    .dataframe tbody tr th {\n",
       "        vertical-align: top;\n",
       "    }\n",
       "\n",
       "    .dataframe thead th {\n",
       "        text-align: right;\n",
       "    }\n",
       "</style>\n",
       "<table border=\"1\" class=\"dataframe\">\n",
       "  <thead>\n",
       "    <tr style=\"text-align: right;\">\n",
       "      <th></th>\n",
       "      <th>name</th>\n",
       "      <th>url</th>\n",
       "      <th>country</th>\n",
       "    </tr>\n",
       "  </thead>\n",
       "  <tbody>\n",
       "    <tr>\n",
       "      <th>0</th>\n",
       "      <td>Shahjahan Noori</td>\n",
       "      <td>https://en.wikipedia.org/wiki/Shahjahan_Noori</td>\n",
       "      <td>Afghanistan</td>\n",
       "    </tr>\n",
       "    <tr>\n",
       "      <th>1</th>\n",
       "      <td>Abdul Ghafar Lakanwal</td>\n",
       "      <td>https://en.wikipedia.org/wiki/Abdul_Ghafar_Lak...</td>\n",
       "      <td>Afghanistan</td>\n",
       "    </tr>\n",
       "    <tr>\n",
       "      <th>2</th>\n",
       "      <td>Majah Ha Adrif</td>\n",
       "      <td>https://en.wikipedia.org/wiki/Majah_Ha_Adrif</td>\n",
       "      <td>Afghanistan</td>\n",
       "    </tr>\n",
       "    <tr>\n",
       "      <th>3</th>\n",
       "      <td>Haroon al-Afghani</td>\n",
       "      <td>https://en.wikipedia.org/wiki/Haroon_al-Afghani</td>\n",
       "      <td>Afghanistan</td>\n",
       "    </tr>\n",
       "    <tr>\n",
       "      <th>4</th>\n",
       "      <td>Tayyab Agha</td>\n",
       "      <td>https://en.wikipedia.org/wiki/Tayyab_Agha</td>\n",
       "      <td>Afghanistan</td>\n",
       "    </tr>\n",
       "  </tbody>\n",
       "</table>\n",
       "</div>"
      ],
      "text/plain": [
       "                    name                                                url  \\\n",
       "0        Shahjahan Noori      https://en.wikipedia.org/wiki/Shahjahan_Noori   \n",
       "1  Abdul Ghafar Lakanwal  https://en.wikipedia.org/wiki/Abdul_Ghafar_Lak...   \n",
       "2         Majah Ha Adrif       https://en.wikipedia.org/wiki/Majah_Ha_Adrif   \n",
       "3      Haroon al-Afghani    https://en.wikipedia.org/wiki/Haroon_al-Afghani   \n",
       "4            Tayyab Agha          https://en.wikipedia.org/wiki/Tayyab_Agha   \n",
       "\n",
       "       country  \n",
       "0  Afghanistan  \n",
       "1  Afghanistan  \n",
       "2  Afghanistan  \n",
       "3  Afghanistan  \n",
       "4  Afghanistan  "
      ]
     },
     "execution_count": 241,
     "metadata": {},
     "output_type": "execute_result"
    }
   ],
   "source": [
    "population=pd.read_excel('population_2022.xlsx')\n",
    "politicians=pd.read_excel('politicians_2022.xlsx')\n",
    "\n",
    "politicians.head()"
   ]
  },
  {
   "cell_type": "code",
   "execution_count": 242,
   "metadata": {},
   "outputs": [],
   "source": [
    "duplicate_articles = politicians[politicians.duplicated(subset=['name', 'url'], keep = False)]\n",
    "duplicate_records = politicians[politicians.duplicated(subset=['name', 'url', 'country'], keep = False)]"
   ]
  },
  {
   "cell_type": "code",
   "execution_count": 243,
   "metadata": {},
   "outputs": [
    {
     "name": "stdout",
     "output_type": "stream",
     "text": [
      "There are 98 duplicate articles \n",
      "There are 4 duplicate records \n"
     ]
    }
   ],
   "source": [
    "print(f'''There are {duplicate_articles.shape[0]} duplicate articles ''')\n",
    "print(f'''There are {duplicate_records.shape[0]} duplicate records ''')"
   ]
  },
  {
   "cell_type": "code",
   "execution_count": 244,
   "metadata": {},
   "outputs": [
    {
     "data": {
      "text/html": [
       "<div>\n",
       "<style scoped>\n",
       "    .dataframe tbody tr th:only-of-type {\n",
       "        vertical-align: middle;\n",
       "    }\n",
       "\n",
       "    .dataframe tbody tr th {\n",
       "        vertical-align: top;\n",
       "    }\n",
       "\n",
       "    .dataframe thead th {\n",
       "        text-align: right;\n",
       "    }\n",
       "</style>\n",
       "<table border=\"1\" class=\"dataframe\">\n",
       "  <thead>\n",
       "    <tr style=\"text-align: right;\">\n",
       "      <th></th>\n",
       "      <th>name</th>\n",
       "      <th>url</th>\n",
       "      <th>country</th>\n",
       "    </tr>\n",
       "  </thead>\n",
       "  <tbody>\n",
       "    <tr>\n",
       "      <th>6198</th>\n",
       "      <td>Abdirahman Aw Ali Farrah</td>\n",
       "      <td>https://en.wikipedia.org/wiki/Abdirahman_Aw_Al...</td>\n",
       "      <td>Somalia</td>\n",
       "    </tr>\n",
       "    <tr>\n",
       "      <th>6231</th>\n",
       "      <td>Ibrahim Megag Samatar</td>\n",
       "      <td>https://en.wikipedia.org/wiki/Ibrahim_Megag_Sa...</td>\n",
       "      <td>Somalia</td>\n",
       "    </tr>\n",
       "    <tr>\n",
       "      <th>6295</th>\n",
       "      <td>Abdirahman Aw Ali Farrah</td>\n",
       "      <td>https://en.wikipedia.org/wiki/Abdirahman_Aw_Al...</td>\n",
       "      <td>Somalia</td>\n",
       "    </tr>\n",
       "    <tr>\n",
       "      <th>6309</th>\n",
       "      <td>Ibrahim Megag Samatar</td>\n",
       "      <td>https://en.wikipedia.org/wiki/Ibrahim_Megag_Sa...</td>\n",
       "      <td>Somalia</td>\n",
       "    </tr>\n",
       "  </tbody>\n",
       "</table>\n",
       "</div>"
      ],
      "text/plain": [
       "                          name  \\\n",
       "6198  Abdirahman Aw Ali Farrah   \n",
       "6231     Ibrahim Megag Samatar   \n",
       "6295  Abdirahman Aw Ali Farrah   \n",
       "6309     Ibrahim Megag Samatar   \n",
       "\n",
       "                                                    url  country  \n",
       "6198  https://en.wikipedia.org/wiki/Abdirahman_Aw_Al...  Somalia  \n",
       "6231  https://en.wikipedia.org/wiki/Ibrahim_Megag_Sa...  Somalia  \n",
       "6295  https://en.wikipedia.org/wiki/Abdirahman_Aw_Al...  Somalia  \n",
       "6309  https://en.wikipedia.org/wiki/Ibrahim_Megag_Sa...  Somalia  "
      ]
     },
     "execution_count": 244,
     "metadata": {},
     "output_type": "execute_result"
    }
   ],
   "source": [
    "duplicate_records"
   ]
  },
  {
   "cell_type": "code",
   "execution_count": 245,
   "metadata": {},
   "outputs": [
    {
     "data": {
      "text/plain": [
       "(7582, 3)"
      ]
     },
     "execution_count": 245,
     "metadata": {},
     "output_type": "execute_result"
    }
   ],
   "source": [
    "politicians = politicians.drop_duplicates()\n",
    "politicians.shape"
   ]
  },
  {
   "cell_type": "markdown",
   "metadata": {},
   "source": [
    "## Countries with 0 population\n",
    "There might be countries with 0 popualtion here because the number os rounded up to millions and smaller countries might have a population of less than half a million, which would get rounded off to zero."
   ]
  },
  {
   "cell_type": "code",
   "execution_count": 246,
   "metadata": {},
   "outputs": [
    {
     "data": {
      "text/plain": [
       "6"
      ]
     },
     "execution_count": 246,
     "metadata": {},
     "output_type": "execute_result"
    }
   ],
   "source": [
    "pop_0 = population[population['Population (millions)'] == 0]\n",
    "pop_0.shape[0]"
   ]
  },
  {
   "cell_type": "code",
   "execution_count": 247,
   "metadata": {},
   "outputs": [
    {
     "data": {
      "text/html": [
       "<div>\n",
       "<style scoped>\n",
       "    .dataframe tbody tr th:only-of-type {\n",
       "        vertical-align: middle;\n",
       "    }\n",
       "\n",
       "    .dataframe tbody tr th {\n",
       "        vertical-align: top;\n",
       "    }\n",
       "\n",
       "    .dataframe thead th {\n",
       "        text-align: right;\n",
       "    }\n",
       "</style>\n",
       "<table border=\"1\" class=\"dataframe\">\n",
       "  <thead>\n",
       "    <tr style=\"text-align: right;\">\n",
       "      <th></th>\n",
       "      <th>Geography</th>\n",
       "      <th>Population (millions)</th>\n",
       "    </tr>\n",
       "  </thead>\n",
       "  <tbody>\n",
       "    <tr>\n",
       "      <th>183</th>\n",
       "      <td>Liechtenstein</td>\n",
       "      <td>0.0</td>\n",
       "    </tr>\n",
       "    <tr>\n",
       "      <th>185</th>\n",
       "      <td>Monaco</td>\n",
       "      <td>0.0</td>\n",
       "    </tr>\n",
       "    <tr>\n",
       "      <th>211</th>\n",
       "      <td>San Marino</td>\n",
       "      <td>0.0</td>\n",
       "    </tr>\n",
       "    <tr>\n",
       "      <th>223</th>\n",
       "      <td>Nauru</td>\n",
       "      <td>0.0</td>\n",
       "    </tr>\n",
       "    <tr>\n",
       "      <th>226</th>\n",
       "      <td>Palau</td>\n",
       "      <td>0.0</td>\n",
       "    </tr>\n",
       "  </tbody>\n",
       "</table>\n",
       "</div>"
      ],
      "text/plain": [
       "         Geography  Population (millions)\n",
       "183  Liechtenstein                    0.0\n",
       "185         Monaco                    0.0\n",
       "211     San Marino                    0.0\n",
       "223          Nauru                    0.0\n",
       "226          Palau                    0.0"
      ]
     },
     "execution_count": 247,
     "metadata": {},
     "output_type": "execute_result"
    }
   ],
   "source": [
    "pop_0.head()"
   ]
  },
  {
   "cell_type": "markdown",
   "metadata": {},
   "source": [
    "#### We will keep them in the data for completeness. However, while rank ordering we will keep in mind how to deal with these values"
   ]
  },
  {
   "cell_type": "code",
   "execution_count": 248,
   "metadata": {},
   "outputs": [
    {
     "data": {
      "text/html": [
       "<div>\n",
       "<style scoped>\n",
       "    .dataframe tbody tr th:only-of-type {\n",
       "        vertical-align: middle;\n",
       "    }\n",
       "\n",
       "    .dataframe tbody tr th {\n",
       "        vertical-align: top;\n",
       "    }\n",
       "\n",
       "    .dataframe thead th {\n",
       "        text-align: right;\n",
       "    }\n",
       "</style>\n",
       "<table border=\"1\" class=\"dataframe\">\n",
       "  <thead>\n",
       "    <tr style=\"text-align: right;\">\n",
       "      <th></th>\n",
       "      <th>Geography</th>\n",
       "      <th>Population (millions)</th>\n",
       "    </tr>\n",
       "  </thead>\n",
       "  <tbody>\n",
       "    <tr>\n",
       "      <th>0</th>\n",
       "      <td>WORLD</td>\n",
       "      <td>7963.0</td>\n",
       "    </tr>\n",
       "    <tr>\n",
       "      <th>1</th>\n",
       "      <td>AFRICA</td>\n",
       "      <td>1419.0</td>\n",
       "    </tr>\n",
       "    <tr>\n",
       "      <th>2</th>\n",
       "      <td>NORTHERN AFRICA</td>\n",
       "      <td>251.0</td>\n",
       "    </tr>\n",
       "    <tr>\n",
       "      <th>3</th>\n",
       "      <td>Algeria</td>\n",
       "      <td>44.9</td>\n",
       "    </tr>\n",
       "    <tr>\n",
       "      <th>4</th>\n",
       "      <td>Egypt</td>\n",
       "      <td>103.5</td>\n",
       "    </tr>\n",
       "  </tbody>\n",
       "</table>\n",
       "</div>"
      ],
      "text/plain": [
       "         Geography  Population (millions)\n",
       "0            WORLD                 7963.0\n",
       "1           AFRICA                 1419.0\n",
       "2  NORTHERN AFRICA                  251.0\n",
       "3          Algeria                   44.9\n",
       "4            Egypt                  103.5"
      ]
     },
     "execution_count": 248,
     "metadata": {},
     "output_type": "execute_result"
    }
   ],
   "source": [
    "population.head()"
   ]
  },
  {
   "cell_type": "code",
   "execution_count": 249,
   "metadata": {},
   "outputs": [],
   "source": [
    "population['Region'] = population['Geography'].map(lambda name: name if name.isupper() else None)"
   ]
  },
  {
   "cell_type": "code",
   "execution_count": 250,
   "metadata": {},
   "outputs": [
    {
     "data": {
      "text/html": [
       "<div>\n",
       "<style scoped>\n",
       "    .dataframe tbody tr th:only-of-type {\n",
       "        vertical-align: middle;\n",
       "    }\n",
       "\n",
       "    .dataframe tbody tr th {\n",
       "        vertical-align: top;\n",
       "    }\n",
       "\n",
       "    .dataframe thead th {\n",
       "        text-align: right;\n",
       "    }\n",
       "</style>\n",
       "<table border=\"1\" class=\"dataframe\">\n",
       "  <thead>\n",
       "    <tr style=\"text-align: right;\">\n",
       "      <th></th>\n",
       "      <th>Geography</th>\n",
       "      <th>Population (millions)</th>\n",
       "      <th>Region</th>\n",
       "    </tr>\n",
       "  </thead>\n",
       "  <tbody>\n",
       "    <tr>\n",
       "      <th>0</th>\n",
       "      <td>WORLD</td>\n",
       "      <td>7963.0</td>\n",
       "      <td>WORLD</td>\n",
       "    </tr>\n",
       "    <tr>\n",
       "      <th>1</th>\n",
       "      <td>AFRICA</td>\n",
       "      <td>1419.0</td>\n",
       "      <td>AFRICA</td>\n",
       "    </tr>\n",
       "    <tr>\n",
       "      <th>2</th>\n",
       "      <td>NORTHERN AFRICA</td>\n",
       "      <td>251.0</td>\n",
       "      <td>NORTHERN AFRICA</td>\n",
       "    </tr>\n",
       "    <tr>\n",
       "      <th>3</th>\n",
       "      <td>Algeria</td>\n",
       "      <td>44.9</td>\n",
       "      <td>None</td>\n",
       "    </tr>\n",
       "    <tr>\n",
       "      <th>4</th>\n",
       "      <td>Egypt</td>\n",
       "      <td>103.5</td>\n",
       "      <td>None</td>\n",
       "    </tr>\n",
       "  </tbody>\n",
       "</table>\n",
       "</div>"
      ],
      "text/plain": [
       "         Geography  Population (millions)           Region\n",
       "0            WORLD                 7963.0            WORLD\n",
       "1           AFRICA                 1419.0           AFRICA\n",
       "2  NORTHERN AFRICA                  251.0  NORTHERN AFRICA\n",
       "3          Algeria                   44.9             None\n",
       "4            Egypt                  103.5             None"
      ]
     },
     "execution_count": 250,
     "metadata": {},
     "output_type": "execute_result"
    }
   ],
   "source": [
    "population.head()"
   ]
  },
  {
   "cell_type": "code",
   "execution_count": 251,
   "metadata": {},
   "outputs": [],
   "source": [
    "population['Region'] = population['Region'].ffill()"
   ]
  },
  {
   "cell_type": "code",
   "execution_count": 252,
   "metadata": {},
   "outputs": [
    {
     "data": {
      "text/html": [
       "<div>\n",
       "<style scoped>\n",
       "    .dataframe tbody tr th:only-of-type {\n",
       "        vertical-align: middle;\n",
       "    }\n",
       "\n",
       "    .dataframe tbody tr th {\n",
       "        vertical-align: top;\n",
       "    }\n",
       "\n",
       "    .dataframe thead th {\n",
       "        text-align: right;\n",
       "    }\n",
       "</style>\n",
       "<table border=\"1\" class=\"dataframe\">\n",
       "  <thead>\n",
       "    <tr style=\"text-align: right;\">\n",
       "      <th></th>\n",
       "      <th>Geography</th>\n",
       "      <th>Population (millions)</th>\n",
       "      <th>Region</th>\n",
       "    </tr>\n",
       "  </thead>\n",
       "  <tbody>\n",
       "    <tr>\n",
       "      <th>0</th>\n",
       "      <td>WORLD</td>\n",
       "      <td>7963.0</td>\n",
       "      <td>WORLD</td>\n",
       "    </tr>\n",
       "    <tr>\n",
       "      <th>1</th>\n",
       "      <td>AFRICA</td>\n",
       "      <td>1419.0</td>\n",
       "      <td>AFRICA</td>\n",
       "    </tr>\n",
       "    <tr>\n",
       "      <th>2</th>\n",
       "      <td>NORTHERN AFRICA</td>\n",
       "      <td>251.0</td>\n",
       "      <td>NORTHERN AFRICA</td>\n",
       "    </tr>\n",
       "    <tr>\n",
       "      <th>3</th>\n",
       "      <td>Algeria</td>\n",
       "      <td>44.9</td>\n",
       "      <td>NORTHERN AFRICA</td>\n",
       "    </tr>\n",
       "    <tr>\n",
       "      <th>4</th>\n",
       "      <td>Egypt</td>\n",
       "      <td>103.5</td>\n",
       "      <td>NORTHERN AFRICA</td>\n",
       "    </tr>\n",
       "  </tbody>\n",
       "</table>\n",
       "</div>"
      ],
      "text/plain": [
       "         Geography  Population (millions)           Region\n",
       "0            WORLD                 7963.0            WORLD\n",
       "1           AFRICA                 1419.0           AFRICA\n",
       "2  NORTHERN AFRICA                  251.0  NORTHERN AFRICA\n",
       "3          Algeria                   44.9  NORTHERN AFRICA\n",
       "4            Egypt                  103.5  NORTHERN AFRICA"
      ]
     },
     "execution_count": 252,
     "metadata": {},
     "output_type": "execute_result"
    }
   ],
   "source": [
    "population.head()"
   ]
  },
  {
   "cell_type": "code",
   "execution_count": 253,
   "metadata": {},
   "outputs": [
    {
     "data": {
      "text/html": [
       "<div>\n",
       "<style scoped>\n",
       "    .dataframe tbody tr th:only-of-type {\n",
       "        vertical-align: middle;\n",
       "    }\n",
       "\n",
       "    .dataframe tbody tr th {\n",
       "        vertical-align: top;\n",
       "    }\n",
       "\n",
       "    .dataframe thead th {\n",
       "        text-align: right;\n",
       "    }\n",
       "</style>\n",
       "<table border=\"1\" class=\"dataframe\">\n",
       "  <thead>\n",
       "    <tr style=\"text-align: right;\">\n",
       "      <th></th>\n",
       "      <th>Geography</th>\n",
       "      <th>Population (millions)</th>\n",
       "      <th>Region</th>\n",
       "    </tr>\n",
       "  </thead>\n",
       "  <tbody>\n",
       "    <tr>\n",
       "      <th>3</th>\n",
       "      <td>Algeria</td>\n",
       "      <td>44.9</td>\n",
       "      <td>NORTHERN AFRICA</td>\n",
       "    </tr>\n",
       "    <tr>\n",
       "      <th>4</th>\n",
       "      <td>Egypt</td>\n",
       "      <td>103.5</td>\n",
       "      <td>NORTHERN AFRICA</td>\n",
       "    </tr>\n",
       "    <tr>\n",
       "      <th>5</th>\n",
       "      <td>Libya</td>\n",
       "      <td>6.8</td>\n",
       "      <td>NORTHERN AFRICA</td>\n",
       "    </tr>\n",
       "    <tr>\n",
       "      <th>6</th>\n",
       "      <td>Morocco</td>\n",
       "      <td>36.7</td>\n",
       "      <td>NORTHERN AFRICA</td>\n",
       "    </tr>\n",
       "    <tr>\n",
       "      <th>7</th>\n",
       "      <td>Sudan</td>\n",
       "      <td>46.9</td>\n",
       "      <td>NORTHERN AFRICA</td>\n",
       "    </tr>\n",
       "  </tbody>\n",
       "</table>\n",
       "</div>"
      ],
      "text/plain": [
       "  Geography  Population (millions)           Region\n",
       "3   Algeria                   44.9  NORTHERN AFRICA\n",
       "4     Egypt                  103.5  NORTHERN AFRICA\n",
       "5     Libya                    6.8  NORTHERN AFRICA\n",
       "6   Morocco                   36.7  NORTHERN AFRICA\n",
       "7     Sudan                   46.9  NORTHERN AFRICA"
      ]
     },
     "execution_count": 253,
     "metadata": {},
     "output_type": "execute_result"
    }
   ],
   "source": [
    "population=population[population['Geography']!=population['Region']]\n",
    "population.head()"
   ]
  },
  {
   "cell_type": "markdown",
   "metadata": {},
   "source": [
    "The API request will be made using one procedure. The idea is to make this reusable. The procedure is parameterized, but relies on the constants above for the important parameters. The underlying assumption is that this will be used to request data for a set of article revisions. Therefore, the main parameter is article_revid."
   ]
  },
  {
   "cell_type": "markdown",
   "metadata": {},
   "source": [
    "## Get quality of article"
   ]
  },
  {
   "cell_type": "code",
   "execution_count": 254,
   "metadata": {},
   "outputs": [],
   "source": [
    "#########\n",
    "#\n",
    "#    PROCEDURES/FUNCTIONS\n",
    "#\n",
    "def request_pageinfo_per_article(article_title = None, \n",
    "                                 endpoint_url = API_ENWIKIPEDIA_ENDPOINT, \n",
    "                                 request_template = PAGEINFO_PARAMS_TEMPLATE,\n",
    "                                 headers = REQUEST_HEADERS):\n",
    "    # Make sure we have an article title\n",
    "    if not article_title: return None\n",
    "    \n",
    "    request_template['titles'] = article_title\n",
    "        \n",
    "    # make the request\n",
    "    try:\n",
    "        # we'll wait first, to make sure we don't exceed the limit in the situation where an exception\n",
    "        # occurs during the request processing - throttling is always a good practice with a free\n",
    "        # data source like Wikipedia - or any other community sources\n",
    "        if API_THROTTLE_WAIT > 0.0:\n",
    "            time.sleep(API_THROTTLE_WAIT)\n",
    "        response = requests.get(endpoint_url, headers=headers, params=request_template)\n",
    "        json_response = response.json()\n",
    "    except Exception as e:\n",
    "        print(e)\n",
    "        json_response = None\n",
    "    return json_response\n"
   ]
  },
  {
   "cell_type": "code",
   "execution_count": 255,
   "metadata": {},
   "outputs": [],
   "source": [
    "ARTICLE_TITLES = politicians['name'].unique()\n",
    "#Keep only unique values"
   ]
  },
  {
   "cell_type": "code",
   "execution_count": 256,
   "metadata": {},
   "outputs": [
    {
     "data": {
      "text/plain": [
       "dtype('O')"
      ]
     },
     "execution_count": 256,
     "metadata": {},
     "output_type": "execute_result"
    }
   ],
   "source": [
    "ARTICLE_TITLES.dtype"
   ]
  },
  {
   "cell_type": "code",
   "execution_count": 152,
   "metadata": {},
   "outputs": [
    {
     "data": {
      "text/plain": [
       "array(['Shahjahan Noori', 'Abdul Ghafar Lakanwal', 'Majah Ha Adrif', ...,\n",
       "       'Langton Towungana', 'Herbert Ushewokunze', 'Denis Walker'],\n",
       "      dtype=object)"
      ]
     },
     "execution_count": 152,
     "metadata": {},
     "output_type": "execute_result"
    }
   ],
   "source": [
    "ARTICLE_TITLES"
   ]
  },
  {
   "cell_type": "code",
   "execution_count": 257,
   "metadata": {},
   "outputs": [],
   "source": [
    "data={'pages':{}} #creating a blank dictionary to save metadata of a articles\n",
    "no_response=[] #list to collect articles with no json response\n",
    "n=len(ARTICLE_TITLES)\n",
    "\n",
    "for i in range(0,n,50):\n",
    "    article_arg='|'.join(ARTICLE_TITLES[i:min((i+50),n)]) #make api request for 50 articles at once\n",
    "    info = request_pageinfo_per_article(article_arg)\n",
    "    if '-1' in info['query']['pages'].keys(): #checking if there is no response to the api request\n",
    "        \n",
    "        no_response.append(info['query']['pages'].pop('-1'))\n",
    "    data['pages'].update(info['query']['pages']) #recursively updating the empty dictionary with new values"
   ]
  },
  {
   "cell_type": "code",
   "execution_count": 258,
   "metadata": {},
   "outputs": [
    {
     "data": {
      "text/plain": [
       "[{'ns': 0,\n",
       "  'title': 'Prince Ofosu Sefah',\n",
       "  'missing': '',\n",
       "  'contentmodel': 'wikitext',\n",
       "  'pagelanguage': 'en',\n",
       "  'pagelanguagehtmlcode': 'en',\n",
       "  'pagelanguagedir': 'ltr',\n",
       "  'fullurl': 'https://en.wikipedia.org/wiki/Prince_Ofosu_Sefah',\n",
       "  'editurl': 'https://en.wikipedia.org/w/index.php?title=Prince_Ofosu_Sefah&action=edit',\n",
       "  'canonicalurl': 'https://en.wikipedia.org/wiki/Prince_Ofosu_Sefah'},\n",
       " {'ns': 0,\n",
       "  'title': 'Harjit Kaur Talwandi',\n",
       "  'missing': '',\n",
       "  'contentmodel': 'wikitext',\n",
       "  'pagelanguage': 'en',\n",
       "  'pagelanguagehtmlcode': 'en',\n",
       "  'pagelanguagedir': 'ltr',\n",
       "  'fullurl': 'https://en.wikipedia.org/wiki/Harjit_Kaur_Talwandi',\n",
       "  'editurl': 'https://en.wikipedia.org/w/index.php?title=Harjit_Kaur_Talwandi&action=edit',\n",
       "  'canonicalurl': 'https://en.wikipedia.org/wiki/Harjit_Kaur_Talwandi'},\n",
       " {'ns': 0,\n",
       "  'title': 'Abd al-Razzaq al-Hasani',\n",
       "  'missing': '',\n",
       "  'contentmodel': 'wikitext',\n",
       "  'pagelanguage': 'en',\n",
       "  'pagelanguagehtmlcode': 'en',\n",
       "  'pagelanguagedir': 'ltr',\n",
       "  'fullurl': 'https://en.wikipedia.org/wiki/Abd_al-Razzaq_al-Hasani',\n",
       "  'editurl': 'https://en.wikipedia.org/w/index.php?title=Abd_al-Razzaq_al-Hasani&action=edit',\n",
       "  'canonicalurl': 'https://en.wikipedia.org/wiki/Abd_al-Razzaq_al-Hasani'},\n",
       " {'ns': 0,\n",
       "  'title': 'Abiodun Abimbola Orekoya',\n",
       "  'missing': '',\n",
       "  'contentmodel': 'wikitext',\n",
       "  'pagelanguage': 'en',\n",
       "  'pagelanguagehtmlcode': 'en',\n",
       "  'pagelanguagedir': 'ltr',\n",
       "  'fullurl': 'https://en.wikipedia.org/wiki/Abiodun_Abimbola_Orekoya',\n",
       "  'editurl': 'https://en.wikipedia.org/w/index.php?title=Abiodun_Abimbola_Orekoya&action=edit',\n",
       "  'canonicalurl': 'https://en.wikipedia.org/wiki/Abiodun_Abimbola_Orekoya'},\n",
       " {'ns': 0,\n",
       "  'title': 'Roman Konoplev',\n",
       "  'missing': '',\n",
       "  'contentmodel': 'wikitext',\n",
       "  'pagelanguage': 'en',\n",
       "  'pagelanguagehtmlcode': 'en',\n",
       "  'pagelanguagedir': 'ltr',\n",
       "  'fullurl': 'https://en.wikipedia.org/wiki/Roman_Konoplev',\n",
       "  'editurl': 'https://en.wikipedia.org/w/index.php?title=Roman_Konoplev&action=edit',\n",
       "  'canonicalurl': 'https://en.wikipedia.org/wiki/Roman_Konoplev'}]"
      ]
     },
     "execution_count": 258,
     "metadata": {},
     "output_type": "execute_result"
    }
   ],
   "source": [
    "no_response"
   ]
  },
  {
   "cell_type": "code",
   "execution_count": 259,
   "metadata": {},
   "outputs": [
    {
     "name": "stdout",
     "output_type": "stream",
     "text": [
      "Unable to get the information for: Prince Ofosu Sefah\n",
      "Unable to get the information for: Harjit Kaur Talwandi\n",
      "Unable to get the information for: Abd al-Razzaq al-Hasani\n",
      "Unable to get the information for: Abiodun Abimbola Orekoya\n",
      "Unable to get the information for: Roman Konoplev\n"
     ]
    }
   ],
   "source": [
    "f = open('error_log.txt', 'w')\n",
    "for item in no_response:\n",
    "    text = \"Unable to get the information for: {}\".format(item['title'])\n",
    "    print(text)\n",
    "    f.write(text)\n"
   ]
  },
  {
   "cell_type": "code",
   "execution_count": 260,
   "metadata": {},
   "outputs": [
    {
     "data": {
      "text/html": [
       "<div>\n",
       "<style scoped>\n",
       "    .dataframe tbody tr th:only-of-type {\n",
       "        vertical-align: middle;\n",
       "    }\n",
       "\n",
       "    .dataframe tbody tr th {\n",
       "        vertical-align: top;\n",
       "    }\n",
       "\n",
       "    .dataframe thead th {\n",
       "        text-align: right;\n",
       "    }\n",
       "</style>\n",
       "<table border=\"1\" class=\"dataframe\">\n",
       "  <thead>\n",
       "    <tr style=\"text-align: right;\">\n",
       "      <th></th>\n",
       "      <th>pageid</th>\n",
       "      <th>ns</th>\n",
       "      <th>title</th>\n",
       "      <th>contentmodel</th>\n",
       "      <th>pagelanguage</th>\n",
       "      <th>pagelanguagehtmlcode</th>\n",
       "      <th>pagelanguagedir</th>\n",
       "      <th>touched</th>\n",
       "      <th>lastrevid</th>\n",
       "      <th>length</th>\n",
       "      <th>talkid</th>\n",
       "      <th>fullurl</th>\n",
       "      <th>editurl</th>\n",
       "      <th>canonicalurl</th>\n",
       "      <th>watchers</th>\n",
       "      <th>redirect</th>\n",
       "      <th>new</th>\n",
       "    </tr>\n",
       "  </thead>\n",
       "  <tbody>\n",
       "    <tr>\n",
       "      <th>0</th>\n",
       "      <td>65412901</td>\n",
       "      <td>0</td>\n",
       "      <td>Abas Basir</td>\n",
       "      <td>wikitext</td>\n",
       "      <td>en</td>\n",
       "      <td>en</td>\n",
       "      <td>ltr</td>\n",
       "      <td>2022-10-11T01:20:40Z</td>\n",
       "      <td>1098419766</td>\n",
       "      <td>19306</td>\n",
       "      <td>65415333.0</td>\n",
       "      <td>https://en.wikipedia.org/wiki/Abas_Basir</td>\n",
       "      <td>https://en.wikipedia.org/w/index.php?title=Aba...</td>\n",
       "      <td>https://en.wikipedia.org/wiki/Abas_Basir</td>\n",
       "      <td>NaN</td>\n",
       "      <td>NaN</td>\n",
       "      <td>NaN</td>\n",
       "    </tr>\n",
       "    <tr>\n",
       "      <th>1</th>\n",
       "      <td>27428272</td>\n",
       "      <td>0</td>\n",
       "      <td>Abdul Baqi Turkistani</td>\n",
       "      <td>wikitext</td>\n",
       "      <td>en</td>\n",
       "      <td>en</td>\n",
       "      <td>ltr</td>\n",
       "      <td>2022-10-11T03:06:55Z</td>\n",
       "      <td>889226470</td>\n",
       "      <td>1297</td>\n",
       "      <td>27595416.0</td>\n",
       "      <td>https://en.wikipedia.org/wiki/Abdul_Baqi_Turki...</td>\n",
       "      <td>https://en.wikipedia.org/w/index.php?title=Abd...</td>\n",
       "      <td>https://en.wikipedia.org/wiki/Abdul_Baqi_Turki...</td>\n",
       "      <td>NaN</td>\n",
       "      <td>NaN</td>\n",
       "      <td>NaN</td>\n",
       "    </tr>\n",
       "    <tr>\n",
       "      <th>2</th>\n",
       "      <td>42972519</td>\n",
       "      <td>0</td>\n",
       "      <td>Abdul Ghafar Lakanwal</td>\n",
       "      <td>wikitext</td>\n",
       "      <td>en</td>\n",
       "      <td>en</td>\n",
       "      <td>ltr</td>\n",
       "      <td>2022-09-26T05:36:04Z</td>\n",
       "      <td>943562276</td>\n",
       "      <td>4165</td>\n",
       "      <td>42972696.0</td>\n",
       "      <td>https://en.wikipedia.org/wiki/Abdul_Ghafar_Lak...</td>\n",
       "      <td>https://en.wikipedia.org/w/index.php?title=Abd...</td>\n",
       "      <td>https://en.wikipedia.org/wiki/Abdul_Ghafar_Lak...</td>\n",
       "      <td>NaN</td>\n",
       "      <td>NaN</td>\n",
       "      <td>NaN</td>\n",
       "    </tr>\n",
       "    <tr>\n",
       "      <th>3</th>\n",
       "      <td>29443640</td>\n",
       "      <td>0</td>\n",
       "      <td>Abdul Ghani Ghani</td>\n",
       "      <td>wikitext</td>\n",
       "      <td>en</td>\n",
       "      <td>en</td>\n",
       "      <td>ltr</td>\n",
       "      <td>2022-10-10T23:29:32Z</td>\n",
       "      <td>1072441893</td>\n",
       "      <td>1352</td>\n",
       "      <td>29453228.0</td>\n",
       "      <td>https://en.wikipedia.org/wiki/Abdul_Ghani_Ghani</td>\n",
       "      <td>https://en.wikipedia.org/w/index.php?title=Abd...</td>\n",
       "      <td>https://en.wikipedia.org/wiki/Abdul_Ghani_Ghani</td>\n",
       "      <td>NaN</td>\n",
       "      <td>NaN</td>\n",
       "      <td>NaN</td>\n",
       "    </tr>\n",
       "    <tr>\n",
       "      <th>4</th>\n",
       "      <td>44098744</td>\n",
       "      <td>0</td>\n",
       "      <td>Abdul Malik Hamwar</td>\n",
       "      <td>wikitext</td>\n",
       "      <td>en</td>\n",
       "      <td>en</td>\n",
       "      <td>ltr</td>\n",
       "      <td>2022-10-10T23:30:44Z</td>\n",
       "      <td>1100874645</td>\n",
       "      <td>3512</td>\n",
       "      <td>44237349.0</td>\n",
       "      <td>https://en.wikipedia.org/wiki/Abdul_Malik_Hamwar</td>\n",
       "      <td>https://en.wikipedia.org/w/index.php?title=Abd...</td>\n",
       "      <td>https://en.wikipedia.org/wiki/Abdul_Malik_Hamwar</td>\n",
       "      <td>NaN</td>\n",
       "      <td>NaN</td>\n",
       "      <td>NaN</td>\n",
       "    </tr>\n",
       "  </tbody>\n",
       "</table>\n",
       "</div>"
      ],
      "text/plain": [
       "     pageid  ns                  title contentmodel pagelanguage  \\\n",
       "0  65412901   0             Abas Basir     wikitext           en   \n",
       "1  27428272   0  Abdul Baqi Turkistani     wikitext           en   \n",
       "2  42972519   0  Abdul Ghafar Lakanwal     wikitext           en   \n",
       "3  29443640   0      Abdul Ghani Ghani     wikitext           en   \n",
       "4  44098744   0     Abdul Malik Hamwar     wikitext           en   \n",
       "\n",
       "  pagelanguagehtmlcode pagelanguagedir               touched   lastrevid  \\\n",
       "0                   en             ltr  2022-10-11T01:20:40Z  1098419766   \n",
       "1                   en             ltr  2022-10-11T03:06:55Z   889226470   \n",
       "2                   en             ltr  2022-09-26T05:36:04Z   943562276   \n",
       "3                   en             ltr  2022-10-10T23:29:32Z  1072441893   \n",
       "4                   en             ltr  2022-10-10T23:30:44Z  1100874645   \n",
       "\n",
       "   length      talkid                                            fullurl  \\\n",
       "0   19306  65415333.0           https://en.wikipedia.org/wiki/Abas_Basir   \n",
       "1    1297  27595416.0  https://en.wikipedia.org/wiki/Abdul_Baqi_Turki...   \n",
       "2    4165  42972696.0  https://en.wikipedia.org/wiki/Abdul_Ghafar_Lak...   \n",
       "3    1352  29453228.0    https://en.wikipedia.org/wiki/Abdul_Ghani_Ghani   \n",
       "4    3512  44237349.0   https://en.wikipedia.org/wiki/Abdul_Malik_Hamwar   \n",
       "\n",
       "                                             editurl  \\\n",
       "0  https://en.wikipedia.org/w/index.php?title=Aba...   \n",
       "1  https://en.wikipedia.org/w/index.php?title=Abd...   \n",
       "2  https://en.wikipedia.org/w/index.php?title=Abd...   \n",
       "3  https://en.wikipedia.org/w/index.php?title=Abd...   \n",
       "4  https://en.wikipedia.org/w/index.php?title=Abd...   \n",
       "\n",
       "                                        canonicalurl  watchers redirect  new  \n",
       "0           https://en.wikipedia.org/wiki/Abas_Basir       NaN      NaN  NaN  \n",
       "1  https://en.wikipedia.org/wiki/Abdul_Baqi_Turki...       NaN      NaN  NaN  \n",
       "2  https://en.wikipedia.org/wiki/Abdul_Ghafar_Lak...       NaN      NaN  NaN  \n",
       "3    https://en.wikipedia.org/wiki/Abdul_Ghani_Ghani       NaN      NaN  NaN  \n",
       "4   https://en.wikipedia.org/wiki/Abdul_Malik_Hamwar       NaN      NaN  NaN  "
      ]
     },
     "execution_count": 260,
     "metadata": {},
     "output_type": "execute_result"
    }
   ],
   "source": [
    "data_list=[] \n",
    "for k,v in data['pages'].items():\n",
    "    data_list.append(v)\n",
    "data_articles= pd.DataFrame(data_list)\n",
    "data_articles.head()"
   ]
  },
  {
   "cell_type": "code",
   "execution_count": 261,
   "metadata": {},
   "outputs": [
    {
     "data": {
      "text/plain": [
       "(7529, 17)"
      ]
     },
     "execution_count": 261,
     "metadata": {},
     "output_type": "execute_result"
    }
   ],
   "source": [
    "data_articles.shape"
   ]
  },
  {
   "cell_type": "code",
   "execution_count": 262,
   "metadata": {},
   "outputs": [
    {
     "data": {
      "text/plain": [
       "(7529, 17)"
      ]
     },
     "execution_count": 262,
     "metadata": {},
     "output_type": "execute_result"
    }
   ],
   "source": [
    "data_articles = data_articles.drop_duplicates()\n",
    "data_articles.shape"
   ]
  },
  {
   "cell_type": "code",
   "execution_count": 263,
   "metadata": {},
   "outputs": [],
   "source": [
    "#########\n",
    "#\n",
    "#    CONSTANTS\n",
    "#\n",
    "\n",
    "# The current ORES API endpoint\n",
    "API_ORES_SCORE_ENDPOINT = \"https://ores.wikimedia.org/v3\"\n",
    "# A template for mapping to the URL\n",
    "API_ORES_SCORE_PARAMS = \"/scores/{context}/?models={models}&revids={revids}\"\n",
    "\n",
    "# Use some delays so that we do not hammer the API with our requests\n",
    "API_LATENCY_ASSUMED = 0.002       # Assuming roughly 2ms latency on the API and network\n",
    "API_THROTTLE_WAIT = (1.0/100.0)-API_LATENCY_ASSUMED\n",
    "\n",
    "# When making automated requests we should include something that is unique to the person making the request\n",
    "# This should include an email - your UW email would be good to put in there\n",
    "REQUEST_HEADERS = {\n",
    "    'User-Agent': '<ananya03@uw.edu>, University of Washington, MSDS DATA 512 - AUTUMN 2022'\n",
    "}\n",
    "\n",
    "# A dictionary of English Wikipedia article titles (keys) and sample revision IDs that can be used for this ORES scoring example\n",
    "ARTICLE_REVISIONS = { 'Bison':1085687913 , 'Northern flicker':1086582504 , 'Red squirrel':1083787665 , 'Chinook salmon':1085406228 , 'Horseshoe bat':1060601936 }\n",
    "\n",
    "# This template lists the basic parameters for making an ORES request\n",
    "ORES_PARAMS_TEMPLATE = {\n",
    "    \"context\": \"enwiki\",        # which WMF project for the specified revid\n",
    "    \"revids\" : \"\",               # the revision to be scored - this will probably change each call\n",
    "    \"models\": \"articlequality\"   # the AI/ML scoring model to apply to the reviewion\n",
    "}\n",
    "#\n",
    "# The current ML models for English wikipedia are:\n",
    "#   \"articlequality\"\n",
    "#   \"articletopic\"\n",
    "#   \"damaging\"\n",
    "#   \"version\"\n",
    "#   \"draftquality\"\n",
    "#   \"drafttopic\"\n",
    "#   \"goodfaith\"\n",
    "#   \"wp10\"\n",
    "#\n",
    "# The specific documentation on these is scattered so if you want to use one you'll have to look around.\n",
    "#"
   ]
  },
  {
   "cell_type": "code",
   "execution_count": 264,
   "metadata": {},
   "outputs": [],
   "source": [
    "#########\n",
    "#\n",
    "#    PROCEDURES/FUNCTIONS\n",
    "#\n",
    "\n",
    "def request_ores_score_per_article(article_revid = None, \n",
    "                                   endpoint_url = API_ORES_SCORE_ENDPOINT, \n",
    "                                   endpoint_params = API_ORES_SCORE_PARAMS, \n",
    "                                   request_template = ORES_PARAMS_TEMPLATE,\n",
    "                                   headers = REQUEST_HEADERS,\n",
    "                                   features=False):\n",
    "    # Make sure we have an article revision id\n",
    "    if not article_revid: return None\n",
    "    \n",
    "    # set the revision id into the template\n",
    "    request_template['revids'] = article_revid\n",
    "    \n",
    "    # now, create a request URL by combining the endpoint_url with the parameters for the request\n",
    "    request_url = endpoint_url+endpoint_params.format(**request_template)\n",
    "    \n",
    "    # the features used by the ML model can sometimes be returned as well as scores\n",
    "    if features:\n",
    "        request_url = request_url+\"?features=true\"\n",
    "    \n",
    "    # make the request\n",
    "    try:\n",
    "        # we'll wait first, to make sure we don't exceed the limit in the situation where an exception\n",
    "        # occurs during the request processing - throttling is always a good practice with a free\n",
    "        # data source like ORES - or other community sources\n",
    "        if API_THROTTLE_WAIT > 0.0:\n",
    "            time.sleep(API_THROTTLE_WAIT)\n",
    "        response = requests.get(request_url, headers=headers)\n",
    "        json_response = response.json()\n",
    "    except Exception as e:\n",
    "        print(e)\n",
    "        json_response = None\n",
    "    return json_response\n"
   ]
  },
  {
   "cell_type": "code",
   "execution_count": 265,
   "metadata": {},
   "outputs": [
    {
     "data": {
      "text/plain": [
       "dtype('int64')"
      ]
     },
     "execution_count": 265,
     "metadata": {},
     "output_type": "execute_result"
    }
   ],
   "source": [
    "data_articles['lastrevid'].dtype"
   ]
  },
  {
   "cell_type": "code",
   "execution_count": 266,
   "metadata": {},
   "outputs": [],
   "source": [
    "data_articles['lastrevid']=data_articles['lastrevid'].astype('str')"
   ]
  },
  {
   "cell_type": "code",
   "execution_count": 267,
   "metadata": {},
   "outputs": [],
   "source": [
    "#Find the list of rev ids to iterate over\n",
    "rev_ids = list(data_articles.lastrevid.unique())"
   ]
  },
  {
   "cell_type": "code",
   "execution_count": 268,
   "metadata": {},
   "outputs": [],
   "source": [
    "rev_ids=list(rev_ids)"
   ]
  },
  {
   "cell_type": "code",
   "execution_count": 269,
   "metadata": {},
   "outputs": [
    {
     "data": {
      "text/plain": [
       "7529"
      ]
     },
     "execution_count": 269,
     "metadata": {},
     "output_type": "execute_result"
    }
   ],
   "source": [
    "len(data_articles)"
   ]
  },
  {
   "cell_type": "code",
   "execution_count": 278,
   "metadata": {},
   "outputs": [],
   "source": [
    "pred={'scores':{}}\n",
    "no_response2={'scores':{}} \n",
    "n=len(data_articles)\n",
    "for i in range(0,n,50):\n",
    "    revidss='|'.join(rev_ids[i:min((i+50),n)])\n",
    "    info = request_ores_score_per_article(revidss)\n",
    "    if info==None:#no api response\n",
    "        pass \n",
    "    else:\n",
    "     #   print(info)\n",
    "        pred['scores'].update(info['enwiki']['scores']) "
   ]
  },
  {
   "cell_type": "code",
   "execution_count": 279,
   "metadata": {},
   "outputs": [
    {
     "data": {
      "text/plain": [
       "{'scores': {}}"
      ]
     },
     "execution_count": 279,
     "metadata": {},
     "output_type": "execute_result"
    }
   ],
   "source": [
    "no_response2"
   ]
  },
  {
   "cell_type": "code",
   "execution_count": 280,
   "metadata": {},
   "outputs": [
    {
     "data": {
      "text/plain": [
       "7529"
      ]
     },
     "execution_count": 280,
     "metadata": {},
     "output_type": "execute_result"
    }
   ],
   "source": [
    "len(pred['scores'])"
   ]
  },
  {
   "cell_type": "markdown",
   "metadata": {},
   "source": [
    "### Check if scores for all articles are available"
   ]
  },
  {
   "cell_type": "code",
   "execution_count": 281,
   "metadata": {},
   "outputs": [],
   "source": [
    "revids = []\n",
    "pred1 = []\n",
    "for revid, v in pred['scores'].items():\n",
    "    revids.append(revid)\n",
    "    pred1.append(v['articlequality']['score']['prediction'])"
   ]
  },
  {
   "cell_type": "code",
   "execution_count": 282,
   "metadata": {},
   "outputs": [
    {
     "data": {
      "text/plain": [
       "7529"
      ]
     },
     "execution_count": 282,
     "metadata": {},
     "output_type": "execute_result"
    }
   ],
   "source": [
    "len(revids)"
   ]
  },
  {
   "cell_type": "code",
   "execution_count": 285,
   "metadata": {},
   "outputs": [],
   "source": [
    "final_df = pd.DataFrame({'revid':revids,'pred':pred1})"
   ]
  },
  {
   "cell_type": "code",
   "execution_count": 286,
   "metadata": {},
   "outputs": [
    {
     "data": {
      "text/plain": [
       "(7529, 2)"
      ]
     },
     "execution_count": 286,
     "metadata": {},
     "output_type": "execute_result"
    }
   ],
   "source": [
    "final_df.shape"
   ]
  },
  {
   "cell_type": "markdown",
   "metadata": {},
   "source": [
    "# Combining the Data"
   ]
  },
  {
   "cell_type": "code",
   "execution_count": 287,
   "metadata": {},
   "outputs": [
    {
     "name": "stdout",
     "output_type": "stream",
     "text": [
      "(7529, 2)\n"
     ]
    }
   ],
   "source": [
    "temp = data_articles[['title', 'lastrevid']]\n",
    "print(temp.shape)"
   ]
  },
  {
   "cell_type": "code",
   "execution_count": 288,
   "metadata": {},
   "outputs": [
    {
     "name": "stdout",
     "output_type": "stream",
     "text": [
      "(7529, 2)\n"
     ]
    }
   ],
   "source": [
    "temp = temp[~temp['lastrevid'].isnull()]\n",
    "print(temp.shape)"
   ]
  },
  {
   "cell_type": "code",
   "execution_count": 289,
   "metadata": {},
   "outputs": [
    {
     "name": "stdout",
     "output_type": "stream",
     "text": [
      "(7577, 5)\n"
     ]
    },
    {
     "data": {
      "text/html": [
       "<div>\n",
       "<style scoped>\n",
       "    .dataframe tbody tr th:only-of-type {\n",
       "        vertical-align: middle;\n",
       "    }\n",
       "\n",
       "    .dataframe tbody tr th {\n",
       "        vertical-align: top;\n",
       "    }\n",
       "\n",
       "    .dataframe thead th {\n",
       "        text-align: right;\n",
       "    }\n",
       "</style>\n",
       "<table border=\"1\" class=\"dataframe\">\n",
       "  <thead>\n",
       "    <tr style=\"text-align: right;\">\n",
       "      <th></th>\n",
       "      <th>name</th>\n",
       "      <th>url</th>\n",
       "      <th>country</th>\n",
       "      <th>title</th>\n",
       "      <th>lastrevid</th>\n",
       "    </tr>\n",
       "  </thead>\n",
       "  <tbody>\n",
       "    <tr>\n",
       "      <th>0</th>\n",
       "      <td>Shahjahan Noori</td>\n",
       "      <td>https://en.wikipedia.org/wiki/Shahjahan_Noori</td>\n",
       "      <td>Afghanistan</td>\n",
       "      <td>Shahjahan Noori</td>\n",
       "      <td>1099689043</td>\n",
       "    </tr>\n",
       "    <tr>\n",
       "      <th>1</th>\n",
       "      <td>Abdul Ghafar Lakanwal</td>\n",
       "      <td>https://en.wikipedia.org/wiki/Abdul_Ghafar_Lak...</td>\n",
       "      <td>Afghanistan</td>\n",
       "      <td>Abdul Ghafar Lakanwal</td>\n",
       "      <td>943562276</td>\n",
       "    </tr>\n",
       "    <tr>\n",
       "      <th>2</th>\n",
       "      <td>Majah Ha Adrif</td>\n",
       "      <td>https://en.wikipedia.org/wiki/Majah_Ha_Adrif</td>\n",
       "      <td>Afghanistan</td>\n",
       "      <td>Majah Ha Adrif</td>\n",
       "      <td>852404094</td>\n",
       "    </tr>\n",
       "    <tr>\n",
       "      <th>3</th>\n",
       "      <td>Haroon al-Afghani</td>\n",
       "      <td>https://en.wikipedia.org/wiki/Haroon_al-Afghani</td>\n",
       "      <td>Afghanistan</td>\n",
       "      <td>Haroon al-Afghani</td>\n",
       "      <td>1095102390</td>\n",
       "    </tr>\n",
       "    <tr>\n",
       "      <th>4</th>\n",
       "      <td>Tayyab Agha</td>\n",
       "      <td>https://en.wikipedia.org/wiki/Tayyab_Agha</td>\n",
       "      <td>Afghanistan</td>\n",
       "      <td>Tayyab Agha</td>\n",
       "      <td>1104998382</td>\n",
       "    </tr>\n",
       "  </tbody>\n",
       "</table>\n",
       "</div>"
      ],
      "text/plain": [
       "                    name                                                url  \\\n",
       "0        Shahjahan Noori      https://en.wikipedia.org/wiki/Shahjahan_Noori   \n",
       "1  Abdul Ghafar Lakanwal  https://en.wikipedia.org/wiki/Abdul_Ghafar_Lak...   \n",
       "2         Majah Ha Adrif       https://en.wikipedia.org/wiki/Majah_Ha_Adrif   \n",
       "3      Haroon al-Afghani    https://en.wikipedia.org/wiki/Haroon_al-Afghani   \n",
       "4            Tayyab Agha          https://en.wikipedia.org/wiki/Tayyab_Agha   \n",
       "\n",
       "       country                  title   lastrevid  \n",
       "0  Afghanistan        Shahjahan Noori  1099689043  \n",
       "1  Afghanistan  Abdul Ghafar Lakanwal   943562276  \n",
       "2  Afghanistan         Majah Ha Adrif   852404094  \n",
       "3  Afghanistan      Haroon al-Afghani  1095102390  \n",
       "4  Afghanistan            Tayyab Agha  1104998382  "
      ]
     },
     "execution_count": 289,
     "metadata": {},
     "output_type": "execute_result"
    }
   ],
   "source": [
    "df_politicians = politicians.merge(temp, left_on = \"name\", right_on = \"title\", how = 'inner')\n",
    "print(df_politicians.shape)\n",
    "df_politicians.head()"
   ]
  },
  {
   "cell_type": "code",
   "execution_count": 290,
   "metadata": {},
   "outputs": [
    {
     "name": "stdout",
     "output_type": "stream",
     "text": [
      "(7577, 4)\n"
     ]
    },
    {
     "data": {
      "text/html": [
       "<div>\n",
       "<style scoped>\n",
       "    .dataframe tbody tr th:only-of-type {\n",
       "        vertical-align: middle;\n",
       "    }\n",
       "\n",
       "    .dataframe tbody tr th {\n",
       "        vertical-align: top;\n",
       "    }\n",
       "\n",
       "    .dataframe thead th {\n",
       "        text-align: right;\n",
       "    }\n",
       "</style>\n",
       "<table border=\"1\" class=\"dataframe\">\n",
       "  <thead>\n",
       "    <tr style=\"text-align: right;\">\n",
       "      <th></th>\n",
       "      <th>name</th>\n",
       "      <th>country</th>\n",
       "      <th>lastrevid</th>\n",
       "      <th>pred</th>\n",
       "    </tr>\n",
       "  </thead>\n",
       "  <tbody>\n",
       "    <tr>\n",
       "      <th>0</th>\n",
       "      <td>Shahjahan Noori</td>\n",
       "      <td>Afghanistan</td>\n",
       "      <td>1099689043</td>\n",
       "      <td>GA</td>\n",
       "    </tr>\n",
       "    <tr>\n",
       "      <th>1</th>\n",
       "      <td>Abdul Ghafar Lakanwal</td>\n",
       "      <td>Afghanistan</td>\n",
       "      <td>943562276</td>\n",
       "      <td>Start</td>\n",
       "    </tr>\n",
       "    <tr>\n",
       "      <th>2</th>\n",
       "      <td>Majah Ha Adrif</td>\n",
       "      <td>Afghanistan</td>\n",
       "      <td>852404094</td>\n",
       "      <td>Start</td>\n",
       "    </tr>\n",
       "    <tr>\n",
       "      <th>3</th>\n",
       "      <td>Haroon al-Afghani</td>\n",
       "      <td>Afghanistan</td>\n",
       "      <td>1095102390</td>\n",
       "      <td>B</td>\n",
       "    </tr>\n",
       "    <tr>\n",
       "      <th>4</th>\n",
       "      <td>Tayyab Agha</td>\n",
       "      <td>Afghanistan</td>\n",
       "      <td>1104998382</td>\n",
       "      <td>Start</td>\n",
       "    </tr>\n",
       "  </tbody>\n",
       "</table>\n",
       "</div>"
      ],
      "text/plain": [
       "                    name      country   lastrevid   pred\n",
       "0        Shahjahan Noori  Afghanistan  1099689043     GA\n",
       "1  Abdul Ghafar Lakanwal  Afghanistan   943562276  Start\n",
       "2         Majah Ha Adrif  Afghanistan   852404094  Start\n",
       "3      Haroon al-Afghani  Afghanistan  1095102390      B\n",
       "4            Tayyab Agha  Afghanistan  1104998382  Start"
      ]
     },
     "execution_count": 290,
     "metadata": {},
     "output_type": "execute_result"
    }
   ],
   "source": [
    "temp2 = df_politicians.merge(final_df,left_on = \"lastrevid\", right_on = \"revid\" , how = 'left')\n",
    "temp2 = temp2.drop(['title', 'url', 'revid'], axis = 1)\n",
    "print(temp2.shape)\n",
    "temp2.head()"
   ]
  },
  {
   "cell_type": "code",
   "execution_count": 291,
   "metadata": {},
   "outputs": [
    {
     "data": {
      "text/html": [
       "<div>\n",
       "<style scoped>\n",
       "    .dataframe tbody tr th:only-of-type {\n",
       "        vertical-align: middle;\n",
       "    }\n",
       "\n",
       "    .dataframe tbody tr th {\n",
       "        vertical-align: top;\n",
       "    }\n",
       "\n",
       "    .dataframe thead th {\n",
       "        text-align: right;\n",
       "    }\n",
       "</style>\n",
       "<table border=\"1\" class=\"dataframe\">\n",
       "  <thead>\n",
       "    <tr style=\"text-align: right;\">\n",
       "      <th></th>\n",
       "      <th>name</th>\n",
       "      <th>country</th>\n",
       "      <th>lastrevid</th>\n",
       "      <th>pred</th>\n",
       "      <th>Geography</th>\n",
       "      <th>Population (millions)</th>\n",
       "      <th>Region</th>\n",
       "    </tr>\n",
       "  </thead>\n",
       "  <tbody>\n",
       "    <tr>\n",
       "      <th>0</th>\n",
       "      <td>Shahjahan Noori</td>\n",
       "      <td>Afghanistan</td>\n",
       "      <td>1099689043</td>\n",
       "      <td>GA</td>\n",
       "      <td>Afghanistan</td>\n",
       "      <td>41.1</td>\n",
       "      <td>SOUTH ASIA</td>\n",
       "    </tr>\n",
       "    <tr>\n",
       "      <th>1</th>\n",
       "      <td>Abdul Ghafar Lakanwal</td>\n",
       "      <td>Afghanistan</td>\n",
       "      <td>943562276</td>\n",
       "      <td>Start</td>\n",
       "      <td>Afghanistan</td>\n",
       "      <td>41.1</td>\n",
       "      <td>SOUTH ASIA</td>\n",
       "    </tr>\n",
       "    <tr>\n",
       "      <th>2</th>\n",
       "      <td>Majah Ha Adrif</td>\n",
       "      <td>Afghanistan</td>\n",
       "      <td>852404094</td>\n",
       "      <td>Start</td>\n",
       "      <td>Afghanistan</td>\n",
       "      <td>41.1</td>\n",
       "      <td>SOUTH ASIA</td>\n",
       "    </tr>\n",
       "    <tr>\n",
       "      <th>3</th>\n",
       "      <td>Haroon al-Afghani</td>\n",
       "      <td>Afghanistan</td>\n",
       "      <td>1095102390</td>\n",
       "      <td>B</td>\n",
       "      <td>Afghanistan</td>\n",
       "      <td>41.1</td>\n",
       "      <td>SOUTH ASIA</td>\n",
       "    </tr>\n",
       "    <tr>\n",
       "      <th>4</th>\n",
       "      <td>Tayyab Agha</td>\n",
       "      <td>Afghanistan</td>\n",
       "      <td>1104998382</td>\n",
       "      <td>Start</td>\n",
       "      <td>Afghanistan</td>\n",
       "      <td>41.1</td>\n",
       "      <td>SOUTH ASIA</td>\n",
       "    </tr>\n",
       "  </tbody>\n",
       "</table>\n",
       "</div>"
      ],
      "text/plain": [
       "                    name      country   lastrevid   pred    Geography  \\\n",
       "0        Shahjahan Noori  Afghanistan  1099689043     GA  Afghanistan   \n",
       "1  Abdul Ghafar Lakanwal  Afghanistan   943562276  Start  Afghanistan   \n",
       "2         Majah Ha Adrif  Afghanistan   852404094  Start  Afghanistan   \n",
       "3      Haroon al-Afghani  Afghanistan  1095102390      B  Afghanistan   \n",
       "4            Tayyab Agha  Afghanistan  1104998382  Start  Afghanistan   \n",
       "\n",
       "   Population (millions)      Region  \n",
       "0                   41.1  SOUTH ASIA  \n",
       "1                   41.1  SOUTH ASIA  \n",
       "2                   41.1  SOUTH ASIA  \n",
       "3                   41.1  SOUTH ASIA  \n",
       "4                   41.1  SOUTH ASIA  "
      ]
     },
     "execution_count": 291,
     "metadata": {},
     "output_type": "execute_result"
    }
   ],
   "source": [
    "temp3 = temp2.merge(population, left_on = 'country', right_on = 'Geography', how = 'outer')\n",
    "temp3.head()"
   ]
  },
  {
   "cell_type": "code",
   "execution_count": 293,
   "metadata": {},
   "outputs": [
    {
     "data": {
      "text/plain": [
       "25"
      ]
     },
     "execution_count": 293,
     "metadata": {},
     "output_type": "execute_result"
    }
   ],
   "source": [
    "no_match_found1 = temp3[temp3['country'].isnull()]['Geography'].unique()\n",
    "len(no_match_found1)"
   ]
  },
  {
   "cell_type": "code",
   "execution_count": 294,
   "metadata": {},
   "outputs": [
    {
     "data": {
      "text/plain": [
       "26"
      ]
     },
     "execution_count": 294,
     "metadata": {},
     "output_type": "execute_result"
    }
   ],
   "source": [
    "no_match_found2 = temp3[temp3['Geography'].isnull()]['country'].unique()\n",
    "no_match_countries = np.append(no_match_found1, no_match_found2)\n",
    "no_match_countries.sort()\n",
    "len(no_match_countries)"
   ]
  },
  {
   "cell_type": "code",
   "execution_count": 329,
   "metadata": {},
   "outputs": [
    {
     "data": {
      "text/plain": [
       "array(['Australia', 'Brunei', 'Canada', 'China,  Hong Kong SAR',\n",
       "       'China,  Macao SAR', 'Curacao', 'French Guiana',\n",
       "       'French Polynesia', 'Guadeloupe', 'Guam', 'Ireland', 'Kiribati',\n",
       "       'Korean', 'Martinique', 'Mauritius', 'Mayotte', 'New Caledonia',\n",
       "       'New Zealand', 'Philippines', 'Puerto Rico', 'Reunion',\n",
       "       'Sao Tome and Principe', 'United Kingdom', 'United States',\n",
       "       'Western Sahara', 'eSwatini'], dtype=object)"
      ]
     },
     "execution_count": 329,
     "metadata": {},
     "output_type": "execute_result"
    }
   ],
   "source": [
    "no_match_countries"
   ]
  },
  {
   "cell_type": "code",
   "execution_count": 330,
   "metadata": {},
   "outputs": [],
   "source": [
    "with open('wp_countries-no_match.txt', 'w') as f:\n",
    "  for i in no_match_countries:\n",
    "    f.write(i)\n",
    "    f.write('\\n')"
   ]
  },
  {
   "cell_type": "markdown",
   "metadata": {},
   "source": [
    "### Consolidate the remaining data into a single CSV file called:\n",
    "wp_politicians_by_country.csv\n"
   ]
  },
  {
   "cell_type": "code",
   "execution_count": 302,
   "metadata": {},
   "outputs": [],
   "source": [
    "final_df = temp3[(~temp3['country'].isnull()) & (~temp3['Geography'].isnull())]"
   ]
  },
  {
   "cell_type": "code",
   "execution_count": 303,
   "metadata": {},
   "outputs": [
    {
     "data": {
      "text/html": [
       "<div>\n",
       "<style scoped>\n",
       "    .dataframe tbody tr th:only-of-type {\n",
       "        vertical-align: middle;\n",
       "    }\n",
       "\n",
       "    .dataframe tbody tr th {\n",
       "        vertical-align: top;\n",
       "    }\n",
       "\n",
       "    .dataframe thead th {\n",
       "        text-align: right;\n",
       "    }\n",
       "</style>\n",
       "<table border=\"1\" class=\"dataframe\">\n",
       "  <thead>\n",
       "    <tr style=\"text-align: right;\">\n",
       "      <th></th>\n",
       "      <th>article_title</th>\n",
       "      <th>country</th>\n",
       "      <th>revision_id</th>\n",
       "      <th>article_quality</th>\n",
       "      <th>population</th>\n",
       "      <th>region</th>\n",
       "    </tr>\n",
       "  </thead>\n",
       "  <tbody>\n",
       "    <tr>\n",
       "      <th>0</th>\n",
       "      <td>Shahjahan Noori</td>\n",
       "      <td>Afghanistan</td>\n",
       "      <td>1099689043</td>\n",
       "      <td>GA</td>\n",
       "      <td>41.1</td>\n",
       "      <td>SOUTH ASIA</td>\n",
       "    </tr>\n",
       "    <tr>\n",
       "      <th>1</th>\n",
       "      <td>Abdul Ghafar Lakanwal</td>\n",
       "      <td>Afghanistan</td>\n",
       "      <td>943562276</td>\n",
       "      <td>Start</td>\n",
       "      <td>41.1</td>\n",
       "      <td>SOUTH ASIA</td>\n",
       "    </tr>\n",
       "    <tr>\n",
       "      <th>2</th>\n",
       "      <td>Majah Ha Adrif</td>\n",
       "      <td>Afghanistan</td>\n",
       "      <td>852404094</td>\n",
       "      <td>Start</td>\n",
       "      <td>41.1</td>\n",
       "      <td>SOUTH ASIA</td>\n",
       "    </tr>\n",
       "    <tr>\n",
       "      <th>3</th>\n",
       "      <td>Haroon al-Afghani</td>\n",
       "      <td>Afghanistan</td>\n",
       "      <td>1095102390</td>\n",
       "      <td>B</td>\n",
       "      <td>41.1</td>\n",
       "      <td>SOUTH ASIA</td>\n",
       "    </tr>\n",
       "    <tr>\n",
       "      <th>4</th>\n",
       "      <td>Tayyab Agha</td>\n",
       "      <td>Afghanistan</td>\n",
       "      <td>1104998382</td>\n",
       "      <td>Start</td>\n",
       "      <td>41.1</td>\n",
       "      <td>SOUTH ASIA</td>\n",
       "    </tr>\n",
       "  </tbody>\n",
       "</table>\n",
       "</div>"
      ],
      "text/plain": [
       "           article_title      country revision_id article_quality  population  \\\n",
       "0        Shahjahan Noori  Afghanistan  1099689043              GA        41.1   \n",
       "1  Abdul Ghafar Lakanwal  Afghanistan   943562276           Start        41.1   \n",
       "2         Majah Ha Adrif  Afghanistan   852404094           Start        41.1   \n",
       "3      Haroon al-Afghani  Afghanistan  1095102390               B        41.1   \n",
       "4            Tayyab Agha  Afghanistan  1104998382           Start        41.1   \n",
       "\n",
       "       region  \n",
       "0  SOUTH ASIA  \n",
       "1  SOUTH ASIA  \n",
       "2  SOUTH ASIA  \n",
       "3  SOUTH ASIA  \n",
       "4  SOUTH ASIA  "
      ]
     },
     "execution_count": 303,
     "metadata": {},
     "output_type": "execute_result"
    }
   ],
   "source": [
    "final_df = final_df.drop('Geography', axis = 1)\n",
    "final_df = final_df.rename(columns={'Geography': 'country', 'Population (millions)': 'population', 'Region': 'region' ,\n",
    "                                    'name': 'article_title', 'lastrevid': 'revision_id', 'pred': 'article_quality'})\n",
    "final_df.head()"
   ]
  },
  {
   "cell_type": "code",
   "execution_count": 304,
   "metadata": {},
   "outputs": [],
   "source": [
    "final_df.to_csv('wp_politicians_by_country.csv', index=False)"
   ]
  },
  {
   "cell_type": "code",
   "execution_count": 305,
   "metadata": {},
   "outputs": [
    {
     "data": {
      "text/plain": [
       "(7507, 6)"
      ]
     },
     "execution_count": 305,
     "metadata": {},
     "output_type": "execute_result"
    }
   ],
   "source": [
    "final_df.shape"
   ]
  },
  {
   "cell_type": "markdown",
   "metadata": {},
   "source": [
    "# Step 4: Analysis\n",
    "Your analysis will consist of calculating total-articles-per-population (a ratio representing the number of articles per person)  and high-quality-articles-per-population (a ratio representing the number of high quality articles per person) on a country-by-country and regional basis. All of these values are to be “per capita”.\n",
    "In this analysis a country can only exist in one region. The population_by_country_2022.csv actually represents regions in a hierarchical order. For your analysis always put a country in the closest (lowest in the hierarchy) region.\n",
    "For this analysis you should consider \"high quality\" articles to be articles that ORES predicted would be in either the \"FA\" (featured article) or \"GA\" (good article) classes.\n",
    "Also, keep in mind that the population_by_country_2022.csv file provides population in millions. The calculated proportions in this step are likely to be very small numbers."
   ]
  },
  {
   "cell_type": "code",
   "execution_count": 307,
   "metadata": {},
   "outputs": [
    {
     "data": {
      "text/html": [
       "<div>\n",
       "<style scoped>\n",
       "    .dataframe tbody tr th:only-of-type {\n",
       "        vertical-align: middle;\n",
       "    }\n",
       "\n",
       "    .dataframe tbody tr th {\n",
       "        vertical-align: top;\n",
       "    }\n",
       "\n",
       "    .dataframe thead th {\n",
       "        text-align: right;\n",
       "    }\n",
       "</style>\n",
       "<table border=\"1\" class=\"dataframe\">\n",
       "  <thead>\n",
       "    <tr style=\"text-align: right;\">\n",
       "      <th></th>\n",
       "      <th>region</th>\n",
       "      <th>population</th>\n",
       "    </tr>\n",
       "  </thead>\n",
       "  <tbody>\n",
       "    <tr>\n",
       "      <th>0</th>\n",
       "      <td>CARIBBEAN</td>\n",
       "      <td>39.5</td>\n",
       "    </tr>\n",
       "    <tr>\n",
       "      <th>1</th>\n",
       "      <td>CENTRAL AMERICA</td>\n",
       "      <td>177.9</td>\n",
       "    </tr>\n",
       "    <tr>\n",
       "      <th>2</th>\n",
       "      <td>CENTRAL ASIA</td>\n",
       "      <td>78.0</td>\n",
       "    </tr>\n",
       "    <tr>\n",
       "      <th>3</th>\n",
       "      <td>EAST ASIA</td>\n",
       "      <td>1665.8</td>\n",
       "    </tr>\n",
       "    <tr>\n",
       "      <th>4</th>\n",
       "      <td>EASTERN AFRICA</td>\n",
       "      <td>470.3</td>\n",
       "    </tr>\n",
       "  </tbody>\n",
       "</table>\n",
       "</div>"
      ],
      "text/plain": [
       "            region  population\n",
       "0        CARIBBEAN        39.5\n",
       "1  CENTRAL AMERICA       177.9\n",
       "2     CENTRAL ASIA        78.0\n",
       "3        EAST ASIA      1665.8\n",
       "4   EASTERN AFRICA       470.3"
      ]
     },
     "execution_count": 307,
     "metadata": {},
     "output_type": "execute_result"
    }
   ],
   "source": [
    "temp4 = final_df[['country','region', 'population']]\n",
    "temp4 = temp4.drop_duplicates()\n",
    "regional_population = temp4[['region', 'population']].groupby('region').sum().reset_index()\n",
    "regional_population.head()"
   ]
  },
  {
   "cell_type": "code",
   "execution_count": 308,
   "metadata": {},
   "outputs": [],
   "source": [
    "regional_population['population'] = regional_population['population'].round().astype('int')"
   ]
  },
  {
   "cell_type": "code",
   "execution_count": 309,
   "metadata": {},
   "outputs": [],
   "source": [
    "# Merge region wise population back to the dataset"
   ]
  },
  {
   "cell_type": "code",
   "execution_count": 310,
   "metadata": {},
   "outputs": [
    {
     "data": {
      "text/html": [
       "<div>\n",
       "<style scoped>\n",
       "    .dataframe tbody tr th:only-of-type {\n",
       "        vertical-align: middle;\n",
       "    }\n",
       "\n",
       "    .dataframe tbody tr th {\n",
       "        vertical-align: top;\n",
       "    }\n",
       "\n",
       "    .dataframe thead th {\n",
       "        text-align: right;\n",
       "    }\n",
       "</style>\n",
       "<table border=\"1\" class=\"dataframe\">\n",
       "  <thead>\n",
       "    <tr style=\"text-align: right;\">\n",
       "      <th></th>\n",
       "      <th>region</th>\n",
       "      <th>article_title</th>\n",
       "    </tr>\n",
       "  </thead>\n",
       "  <tbody>\n",
       "    <tr>\n",
       "      <th>0</th>\n",
       "      <td>CARIBBEAN</td>\n",
       "      <td>201</td>\n",
       "    </tr>\n",
       "    <tr>\n",
       "      <th>1</th>\n",
       "      <td>CENTRAL AMERICA</td>\n",
       "      <td>193</td>\n",
       "    </tr>\n",
       "    <tr>\n",
       "      <th>2</th>\n",
       "      <td>CENTRAL ASIA</td>\n",
       "      <td>103</td>\n",
       "    </tr>\n",
       "    <tr>\n",
       "      <th>3</th>\n",
       "      <td>EAST ASIA</td>\n",
       "      <td>246</td>\n",
       "    </tr>\n",
       "    <tr>\n",
       "      <th>4</th>\n",
       "      <td>EASTERN AFRICA</td>\n",
       "      <td>646</td>\n",
       "    </tr>\n",
       "  </tbody>\n",
       "</table>\n",
       "</div>"
      ],
      "text/plain": [
       "            region  article_title\n",
       "0        CARIBBEAN            201\n",
       "1  CENTRAL AMERICA            193\n",
       "2     CENTRAL ASIA            103\n",
       "3        EAST ASIA            246\n",
       "4   EASTERN AFRICA            646"
      ]
     },
     "execution_count": 310,
     "metadata": {},
     "output_type": "execute_result"
    }
   ],
   "source": [
    "total_articles = final_df[['region', 'article_title']]\n",
    "total_articles = total_articles.groupby(['region']).nunique().reset_index()\n",
    "total_articles.head()"
   ]
  },
  {
   "cell_type": "code",
   "execution_count": 311,
   "metadata": {},
   "outputs": [
    {
     "data": {
      "text/html": [
       "<div>\n",
       "<style scoped>\n",
       "    .dataframe tbody tr th:only-of-type {\n",
       "        vertical-align: middle;\n",
       "    }\n",
       "\n",
       "    .dataframe tbody tr th {\n",
       "        vertical-align: top;\n",
       "    }\n",
       "\n",
       "    .dataframe thead th {\n",
       "        text-align: right;\n",
       "    }\n",
       "</style>\n",
       "<table border=\"1\" class=\"dataframe\">\n",
       "  <thead>\n",
       "    <tr style=\"text-align: right;\">\n",
       "      <th></th>\n",
       "      <th>region</th>\n",
       "      <th>article_title</th>\n",
       "      <th>population</th>\n",
       "    </tr>\n",
       "  </thead>\n",
       "  <tbody>\n",
       "    <tr>\n",
       "      <th>0</th>\n",
       "      <td>CARIBBEAN</td>\n",
       "      <td>201</td>\n",
       "      <td>40</td>\n",
       "    </tr>\n",
       "    <tr>\n",
       "      <th>1</th>\n",
       "      <td>CENTRAL AMERICA</td>\n",
       "      <td>193</td>\n",
       "      <td>178</td>\n",
       "    </tr>\n",
       "    <tr>\n",
       "      <th>2</th>\n",
       "      <td>CENTRAL ASIA</td>\n",
       "      <td>103</td>\n",
       "      <td>78</td>\n",
       "    </tr>\n",
       "    <tr>\n",
       "      <th>3</th>\n",
       "      <td>EAST ASIA</td>\n",
       "      <td>246</td>\n",
       "      <td>1666</td>\n",
       "    </tr>\n",
       "    <tr>\n",
       "      <th>4</th>\n",
       "      <td>EASTERN AFRICA</td>\n",
       "      <td>646</td>\n",
       "      <td>470</td>\n",
       "    </tr>\n",
       "  </tbody>\n",
       "</table>\n",
       "</div>"
      ],
      "text/plain": [
       "            region  article_title  population\n",
       "0        CARIBBEAN            201          40\n",
       "1  CENTRAL AMERICA            193         178\n",
       "2     CENTRAL ASIA            103          78\n",
       "3        EAST ASIA            246        1666\n",
       "4   EASTERN AFRICA            646         470"
      ]
     },
     "execution_count": 311,
     "metadata": {},
     "output_type": "execute_result"
    }
   ],
   "source": [
    "total_articles = total_articles.merge(regional_population, on = \"region\", how = \"inner\")\n",
    "total_articles.head()"
   ]
  },
  {
   "cell_type": "code",
   "execution_count": 312,
   "metadata": {},
   "outputs": [
    {
     "data": {
      "text/html": [
       "<div>\n",
       "<style scoped>\n",
       "    .dataframe tbody tr th:only-of-type {\n",
       "        vertical-align: middle;\n",
       "    }\n",
       "\n",
       "    .dataframe tbody tr th {\n",
       "        vertical-align: top;\n",
       "    }\n",
       "\n",
       "    .dataframe thead th {\n",
       "        text-align: right;\n",
       "    }\n",
       "</style>\n",
       "<table border=\"1\" class=\"dataframe\">\n",
       "  <thead>\n",
       "    <tr style=\"text-align: right;\">\n",
       "      <th></th>\n",
       "      <th>region</th>\n",
       "      <th>article_title</th>\n",
       "      <th>population</th>\n",
       "      <th>articles_per_capita</th>\n",
       "    </tr>\n",
       "  </thead>\n",
       "  <tbody>\n",
       "    <tr>\n",
       "      <th>3</th>\n",
       "      <td>EAST ASIA</td>\n",
       "      <td>246</td>\n",
       "      <td>1666</td>\n",
       "      <td>0.147659</td>\n",
       "    </tr>\n",
       "    <tr>\n",
       "      <th>11</th>\n",
       "      <td>SOUTH ASIA</td>\n",
       "      <td>644</td>\n",
       "      <td>2009</td>\n",
       "      <td>0.320557</td>\n",
       "    </tr>\n",
       "    <tr>\n",
       "      <th>12</th>\n",
       "      <td>SOUTHEAST ASIA</td>\n",
       "      <td>410</td>\n",
       "      <td>560</td>\n",
       "      <td>0.732143</td>\n",
       "    </tr>\n",
       "    <tr>\n",
       "      <th>7</th>\n",
       "      <td>NORTHERN AFRICA</td>\n",
       "      <td>227</td>\n",
       "      <td>251</td>\n",
       "      <td>0.904382</td>\n",
       "    </tr>\n",
       "    <tr>\n",
       "      <th>6</th>\n",
       "      <td>MIDDLE AFRICA</td>\n",
       "      <td>203</td>\n",
       "      <td>196</td>\n",
       "      <td>1.035714</td>\n",
       "    </tr>\n",
       "  </tbody>\n",
       "</table>\n",
       "</div>"
      ],
      "text/plain": [
       "             region  article_title  population  articles_per_capita\n",
       "3         EAST ASIA            246        1666             0.147659\n",
       "11       SOUTH ASIA            644        2009             0.320557\n",
       "12   SOUTHEAST ASIA            410         560             0.732143\n",
       "7   NORTHERN AFRICA            227         251             0.904382\n",
       "6     MIDDLE AFRICA            203         196             1.035714"
      ]
     },
     "execution_count": 312,
     "metadata": {},
     "output_type": "execute_result"
    }
   ],
   "source": [
    "total_articles['articles_per_capita'] = total_articles['article_title'] / (total_articles['population'] )\n",
    "total_articles = total_articles.sort_values(by = ['articles_per_capita'])\n",
    "total_articles.head()"
   ]
  },
  {
   "cell_type": "code",
   "execution_count": 313,
   "metadata": {},
   "outputs": [],
   "source": [
    "#Country wise articles per capita"
   ]
  },
  {
   "cell_type": "code",
   "execution_count": 314,
   "metadata": {},
   "outputs": [
    {
     "data": {
      "text/html": [
       "<div>\n",
       "<style scoped>\n",
       "    .dataframe tbody tr th:only-of-type {\n",
       "        vertical-align: middle;\n",
       "    }\n",
       "\n",
       "    .dataframe tbody tr th {\n",
       "        vertical-align: top;\n",
       "    }\n",
       "\n",
       "    .dataframe thead th {\n",
       "        text-align: right;\n",
       "    }\n",
       "</style>\n",
       "<table border=\"1\" class=\"dataframe\">\n",
       "  <thead>\n",
       "    <tr style=\"text-align: right;\">\n",
       "      <th></th>\n",
       "      <th>country</th>\n",
       "      <th>population</th>\n",
       "      <th>article_title</th>\n",
       "      <th>articles_per_capita</th>\n",
       "    </tr>\n",
       "  </thead>\n",
       "  <tbody>\n",
       "    <tr>\n",
       "      <th>32</th>\n",
       "      <td>China</td>\n",
       "      <td>1436.6</td>\n",
       "      <td>2</td>\n",
       "      <td>0.001392</td>\n",
       "    </tr>\n",
       "    <tr>\n",
       "      <th>106</th>\n",
       "      <td>Mexico</td>\n",
       "      <td>127.5</td>\n",
       "      <td>1</td>\n",
       "      <td>0.007843</td>\n",
       "    </tr>\n",
       "    <tr>\n",
       "      <th>140</th>\n",
       "      <td>Saudi Arabia</td>\n",
       "      <td>36.7</td>\n",
       "      <td>3</td>\n",
       "      <td>0.081744</td>\n",
       "    </tr>\n",
       "    <tr>\n",
       "      <th>134</th>\n",
       "      <td>Romania</td>\n",
       "      <td>19.0</td>\n",
       "      <td>2</td>\n",
       "      <td>0.105263</td>\n",
       "    </tr>\n",
       "    <tr>\n",
       "      <th>73</th>\n",
       "      <td>India</td>\n",
       "      <td>1417.2</td>\n",
       "      <td>178</td>\n",
       "      <td>0.125600</td>\n",
       "    </tr>\n",
       "  </tbody>\n",
       "</table>\n",
       "</div>"
      ],
      "text/plain": [
       "          country  population  article_title  articles_per_capita\n",
       "32          China      1436.6              2             0.001392\n",
       "106        Mexico       127.5              1             0.007843\n",
       "140  Saudi Arabia        36.7              3             0.081744\n",
       "134       Romania        19.0              2             0.105263\n",
       "73          India      1417.2            178             0.125600"
      ]
     },
     "execution_count": 314,
     "metadata": {},
     "output_type": "execute_result"
    }
   ],
   "source": [
    "counrty_per_capita = final_df[['country', 'population', 'article_title']].groupby(['country', 'population']).nunique().reset_index()\n",
    "counrty_per_capita['articles_per_capita'] = counrty_per_capita['article_title'] / (counrty_per_capita['population'])\n",
    "counrty_per_capita = counrty_per_capita.sort_values(by = ['articles_per_capita'])\n",
    "counrty_per_capita.head()"
   ]
  },
  {
   "cell_type": "code",
   "execution_count": 265,
   "metadata": {},
   "outputs": [],
   "source": [
    "# Repeating for high quality articles"
   ]
  },
  {
   "cell_type": "code",
   "execution_count": 316,
   "metadata": {},
   "outputs": [],
   "source": [
    "high_quality = final_df[(final_df['article_quality'] == 'FA') | (final_df['article_quality'] == 'GA')]"
   ]
  },
  {
   "cell_type": "code",
   "execution_count": 317,
   "metadata": {},
   "outputs": [
    {
     "data": {
      "text/html": [
       "<div>\n",
       "<style scoped>\n",
       "    .dataframe tbody tr th:only-of-type {\n",
       "        vertical-align: middle;\n",
       "    }\n",
       "\n",
       "    .dataframe tbody tr th {\n",
       "        vertical-align: top;\n",
       "    }\n",
       "\n",
       "    .dataframe thead th {\n",
       "        text-align: right;\n",
       "    }\n",
       "</style>\n",
       "<table border=\"1\" class=\"dataframe\">\n",
       "  <thead>\n",
       "    <tr style=\"text-align: right;\">\n",
       "      <th></th>\n",
       "      <th>region</th>\n",
       "      <th>article_title</th>\n",
       "      <th>population</th>\n",
       "      <th>articles_per_capita</th>\n",
       "    </tr>\n",
       "  </thead>\n",
       "  <tbody>\n",
       "    <tr>\n",
       "      <th>3</th>\n",
       "      <td>EAST ASIA</td>\n",
       "      <td>16</td>\n",
       "      <td>1666</td>\n",
       "      <td>0.009604</td>\n",
       "    </tr>\n",
       "    <tr>\n",
       "      <th>11</th>\n",
       "      <td>SOUTH ASIA</td>\n",
       "      <td>23</td>\n",
       "      <td>2009</td>\n",
       "      <td>0.011448</td>\n",
       "    </tr>\n",
       "    <tr>\n",
       "      <th>6</th>\n",
       "      <td>MIDDLE AFRICA</td>\n",
       "      <td>5</td>\n",
       "      <td>196</td>\n",
       "      <td>0.025510</td>\n",
       "    </tr>\n",
       "    <tr>\n",
       "      <th>7</th>\n",
       "      <td>NORTHERN AFRICA</td>\n",
       "      <td>7</td>\n",
       "      <td>251</td>\n",
       "      <td>0.027888</td>\n",
       "    </tr>\n",
       "    <tr>\n",
       "      <th>10</th>\n",
       "      <td>SOUTH AMERICA</td>\n",
       "      <td>13</td>\n",
       "      <td>434</td>\n",
       "      <td>0.029954</td>\n",
       "    </tr>\n",
       "  </tbody>\n",
       "</table>\n",
       "</div>"
      ],
      "text/plain": [
       "             region  article_title  population  articles_per_capita\n",
       "3         EAST ASIA             16        1666             0.009604\n",
       "11       SOUTH ASIA             23        2009             0.011448\n",
       "6     MIDDLE AFRICA              5         196             0.025510\n",
       "7   NORTHERN AFRICA              7         251             0.027888\n",
       "10    SOUTH AMERICA             13         434             0.029954"
      ]
     },
     "execution_count": 317,
     "metadata": {},
     "output_type": "execute_result"
    }
   ],
   "source": [
    "total_articles_h = high_quality[['region', 'article_title']]\n",
    "total_articles_h = total_articles_h.groupby(['region']).nunique().reset_index()\n",
    "total_articles_h = total_articles_h.merge(regional_population, on = \"region\", how = \"inner\")\n",
    "total_articles_h['articles_per_capita'] = total_articles_h['article_title'] / (total_articles_h['population'] )\n",
    "total_articles_h = total_articles_h.sort_values(by = ['articles_per_capita'])\n",
    "total_articles_h.head()"
   ]
  },
  {
   "cell_type": "code",
   "execution_count": 318,
   "metadata": {},
   "outputs": [
    {
     "data": {
      "text/plain": [
       "(93, 4)"
      ]
     },
     "execution_count": 318,
     "metadata": {},
     "output_type": "execute_result"
    }
   ],
   "source": [
    "#Country wise articles per capita\n",
    "counrty_per_capita_h = high_quality[['country', 'population', 'article_title']].groupby(['country', 'population']).nunique().reset_index()\n",
    "counrty_per_capita_h['articles_per_capita'] = counrty_per_capita_h['article_title'] / (counrty_per_capita_h['population'])\n",
    "counrty_per_capita_h = counrty_per_capita_h.sort_values(by = ['articles_per_capita'])\n",
    "counrty_per_capita_h.shape"
   ]
  },
  {
   "cell_type": "markdown",
   "metadata": {},
   "source": [
    "# Step 5\n",
    "\n",
    "Your results from this analysis will be produced in the form of data tables. You are being asked to produce six total tables, that show:\n",
    "\n",
    "### 1. Top 10 countries by coverage: The 10 countries with the highest total articles per capita (in descending order) "
   ]
  },
  {
   "cell_type": "code",
   "execution_count": 343,
   "metadata": {},
   "outputs": [
    {
     "data": {
      "text/plain": [
       "108                            Monaco\n",
       "139                        San Marino\n",
       "125                             Palau\n",
       "172                            Tuvalu\n",
       "95                      Liechtenstein\n",
       "115                             Nauru\n",
       "5                 Antigua and Barbuda\n",
       "54     Federated States of Micronesia\n",
       "3                             Andorra\n",
       "13                           Barbados\n",
       "Name: country, dtype: object"
      ]
     },
     "execution_count": 343,
     "metadata": {},
     "output_type": "execute_result"
    }
   ],
   "source": [
    "counrty_per_capita1 = counrty_per_capita.sort_values(by = ['articles_per_capita'], ascending = False)\n",
    "\n",
    "counrty_top10 = counrty_per_capita1.head(10)['country']\n",
    "counrty_top10"
   ]
  },
  {
   "cell_type": "markdown",
   "metadata": {},
   "source": [
    "### If we remove infinity values"
   ]
  },
  {
   "cell_type": "code",
   "execution_count": 344,
   "metadata": {},
   "outputs": [
    {
     "data": {
      "text/html": [
       "<div>\n",
       "<style scoped>\n",
       "    .dataframe tbody tr th:only-of-type {\n",
       "        vertical-align: middle;\n",
       "    }\n",
       "\n",
       "    .dataframe tbody tr th {\n",
       "        vertical-align: top;\n",
       "    }\n",
       "\n",
       "    .dataframe thead th {\n",
       "        text-align: right;\n",
       "    }\n",
       "</style>\n",
       "<table border=\"1\" class=\"dataframe\">\n",
       "  <thead>\n",
       "    <tr style=\"text-align: right;\">\n",
       "      <th></th>\n",
       "      <th>country</th>\n",
       "    </tr>\n",
       "  </thead>\n",
       "  <tbody>\n",
       "    <tr>\n",
       "      <th>5</th>\n",
       "      <td>Antigua and Barbuda</td>\n",
       "    </tr>\n",
       "    <tr>\n",
       "      <th>54</th>\n",
       "      <td>Federated States of Micronesia</td>\n",
       "    </tr>\n",
       "    <tr>\n",
       "      <th>3</th>\n",
       "      <td>Andorra</td>\n",
       "    </tr>\n",
       "    <tr>\n",
       "      <th>13</th>\n",
       "      <td>Barbados</td>\n",
       "    </tr>\n",
       "    <tr>\n",
       "      <th>104</th>\n",
       "      <td>Marshall Islands</td>\n",
       "    </tr>\n",
       "    <tr>\n",
       "      <th>143</th>\n",
       "      <td>Seychelles</td>\n",
       "    </tr>\n",
       "    <tr>\n",
       "      <th>110</th>\n",
       "      <td>Montenegro</td>\n",
       "    </tr>\n",
       "    <tr>\n",
       "      <th>97</th>\n",
       "      <td>Luxembourg</td>\n",
       "    </tr>\n",
       "    <tr>\n",
       "      <th>18</th>\n",
       "      <td>Bhutan</td>\n",
       "    </tr>\n",
       "    <tr>\n",
       "      <th>64</th>\n",
       "      <td>Grenada</td>\n",
       "    </tr>\n",
       "  </tbody>\n",
       "</table>\n",
       "</div>"
      ],
      "text/plain": [
       "                            country\n",
       "5               Antigua and Barbuda\n",
       "54   Federated States of Micronesia\n",
       "3                           Andorra\n",
       "13                         Barbados\n",
       "104                Marshall Islands\n",
       "143                      Seychelles\n",
       "110                      Montenegro\n",
       "97                       Luxembourg\n",
       "18                           Bhutan\n",
       "64                          Grenada"
      ]
     },
     "execution_count": 344,
     "metadata": {},
     "output_type": "execute_result"
    }
   ],
   "source": [
    "counrty_per_capita1[counrty_per_capita1['articles_per_capita']!=np.Inf].head(10)[['country']]"
   ]
  },
  {
   "cell_type": "markdown",
   "metadata": {},
   "source": [
    "### 2. Bottom 10 countries by coverage: The 10 countries with the lowest total articles per capita (in ascending order) "
   ]
  },
  {
   "cell_type": "code",
   "execution_count": 345,
   "metadata": {},
   "outputs": [
    {
     "data": {
      "text/plain": [
       "32            China\n",
       "106          Mexico\n",
       "140    Saudi Arabia\n",
       "134         Romania\n",
       "73            India\n",
       "153       Sri Lanka\n",
       "48            Egypt\n",
       "53         Ethiopia\n",
       "161          Taiwan\n",
       "180         Vietnam\n",
       "Name: country, dtype: object"
      ]
     },
     "execution_count": 345,
     "metadata": {},
     "output_type": "execute_result"
    }
   ],
   "source": [
    "counrty_per_capita1 = counrty_per_capita.sort_values(by = ['articles_per_capita'], ascending = True)\n",
    "\n",
    "counrty_bottom10 = counrty_per_capita1.head(10)['country']\n",
    "counrty_bottom10"
   ]
  },
  {
   "cell_type": "markdown",
   "metadata": {},
   "source": [
    "# High quality\n",
    "\n",
    "### 3. Top 10 countries by high quality: The 10 countries with the highest high quality articles per capita (in descending order)"
   ]
  },
  {
   "cell_type": "code",
   "execution_count": 346,
   "metadata": {},
   "outputs": [
    {
     "data": {
      "text/plain": [
       "86                   Tuvalu\n",
       "2                   Andorra\n",
       "53               Montenegro\n",
       "1                   Albania\n",
       "80                 Suriname\n",
       "9        Bosnia-Herzegovina\n",
       "49                Lithuania\n",
       "19                  Croatia\n",
       "74                 Slovenia\n",
       "61    Palestinian Territory\n",
       "Name: country, dtype: object"
      ]
     },
     "execution_count": 346,
     "metadata": {},
     "output_type": "execute_result"
    }
   ],
   "source": [
    "counrty_per_capita1 = counrty_per_capita_h.sort_values(by = ['articles_per_capita'], ascending = False)\n",
    "hq_country_top10  = counrty_per_capita1.head(10)['country']\n",
    "hq_country_top10"
   ]
  },
  {
   "cell_type": "markdown",
   "metadata": {},
   "source": [
    "### If we remove infinity values"
   ]
  },
  {
   "cell_type": "code",
   "execution_count": 347,
   "metadata": {},
   "outputs": [
    {
     "data": {
      "text/html": [
       "<div>\n",
       "<style scoped>\n",
       "    .dataframe tbody tr th:only-of-type {\n",
       "        vertical-align: middle;\n",
       "    }\n",
       "\n",
       "    .dataframe tbody tr th {\n",
       "        vertical-align: top;\n",
       "    }\n",
       "\n",
       "    .dataframe thead th {\n",
       "        text-align: right;\n",
       "    }\n",
       "</style>\n",
       "<table border=\"1\" class=\"dataframe\">\n",
       "  <thead>\n",
       "    <tr style=\"text-align: right;\">\n",
       "      <th></th>\n",
       "      <th>country</th>\n",
       "    </tr>\n",
       "  </thead>\n",
       "  <tbody>\n",
       "    <tr>\n",
       "      <th>2</th>\n",
       "      <td>Andorra</td>\n",
       "    </tr>\n",
       "    <tr>\n",
       "      <th>53</th>\n",
       "      <td>Montenegro</td>\n",
       "    </tr>\n",
       "    <tr>\n",
       "      <th>1</th>\n",
       "      <td>Albania</td>\n",
       "    </tr>\n",
       "    <tr>\n",
       "      <th>80</th>\n",
       "      <td>Suriname</td>\n",
       "    </tr>\n",
       "    <tr>\n",
       "      <th>9</th>\n",
       "      <td>Bosnia-Herzegovina</td>\n",
       "    </tr>\n",
       "    <tr>\n",
       "      <th>49</th>\n",
       "      <td>Lithuania</td>\n",
       "    </tr>\n",
       "    <tr>\n",
       "      <th>19</th>\n",
       "      <td>Croatia</td>\n",
       "    </tr>\n",
       "    <tr>\n",
       "      <th>74</th>\n",
       "      <td>Slovenia</td>\n",
       "    </tr>\n",
       "    <tr>\n",
       "      <th>61</th>\n",
       "      <td>Palestinian Territory</td>\n",
       "    </tr>\n",
       "    <tr>\n",
       "      <th>28</th>\n",
       "      <td>Gabon</td>\n",
       "    </tr>\n",
       "  </tbody>\n",
       "</table>\n",
       "</div>"
      ],
      "text/plain": [
       "                  country\n",
       "2                 Andorra\n",
       "53             Montenegro\n",
       "1                 Albania\n",
       "80               Suriname\n",
       "9      Bosnia-Herzegovina\n",
       "49              Lithuania\n",
       "19                Croatia\n",
       "74               Slovenia\n",
       "61  Palestinian Territory\n",
       "28                  Gabon"
      ]
     },
     "execution_count": 347,
     "metadata": {},
     "output_type": "execute_result"
    }
   ],
   "source": [
    "counrty_per_capita1[counrty_per_capita1['articles_per_capita']!=np.Inf].head(10)[['country']]"
   ]
  },
  {
   "cell_type": "markdown",
   "metadata": {},
   "source": [
    "### 4. Bottom 10 countries by high quality: The 10 countries with the lowest high quality articles per capita (in ascending order)"
   ]
  },
  {
   "cell_type": "code",
   "execution_count": 322,
   "metadata": {},
   "outputs": [
    {
     "data": {
      "text/plain": [
       "35       India\n",
       "84    Thailand\n",
       "39       Japan\n",
       "58     Nigeria\n",
       "91     Vietnam\n",
       "17    Colombia\n",
       "87      Uganda\n",
       "60    Pakistan\n",
       "79       Sudan\n",
       "37        Iran\n",
       "Name: country, dtype: object"
      ]
     },
     "execution_count": 322,
     "metadata": {},
     "output_type": "execute_result"
    }
   ],
   "source": [
    "counrty_per_capita1 = counrty_per_capita_h.sort_values(by = ['articles_per_capita'], ascending = True)\n",
    "hq_country_bottom10  = counrty_per_capita1.head(10)['country']\n",
    "hq_country_bottom10"
   ]
  },
  {
   "cell_type": "markdown",
   "metadata": {},
   "source": [
    "### 5. Geographic regions by total coverage: A rank ordered list of geographic regions (in descending order) by total articles per capita.\n",
    "\n",
    "Here, the population of the region is calculated based on the countries that we got a match for. The idea is not include the population of countries for which there is match because for these countries, articles are not being accounted for either."
   ]
  },
  {
   "cell_type": "code",
   "execution_count": 331,
   "metadata": {},
   "outputs": [
    {
     "data": {
      "text/html": [
       "<div>\n",
       "<style scoped>\n",
       "    .dataframe tbody tr th:only-of-type {\n",
       "        vertical-align: middle;\n",
       "    }\n",
       "\n",
       "    .dataframe tbody tr th {\n",
       "        vertical-align: top;\n",
       "    }\n",
       "\n",
       "    .dataframe thead th {\n",
       "        text-align: right;\n",
       "    }\n",
       "</style>\n",
       "<table border=\"1\" class=\"dataframe\">\n",
       "  <thead>\n",
       "    <tr style=\"text-align: right;\">\n",
       "      <th></th>\n",
       "      <th>region</th>\n",
       "      <th>article_title</th>\n",
       "      <th>population</th>\n",
       "      <th>articles_per_capita</th>\n",
       "    </tr>\n",
       "  </thead>\n",
       "  <tbody>\n",
       "    <tr>\n",
       "      <th>8</th>\n",
       "      <td>NORTHERN EUROPE</td>\n",
       "      <td>261</td>\n",
       "      <td>34</td>\n",
       "      <td>7.676471</td>\n",
       "    </tr>\n",
       "    <tr>\n",
       "      <th>9</th>\n",
       "      <td>OCEANIA</td>\n",
       "      <td>86</td>\n",
       "      <td>12</td>\n",
       "      <td>7.166667</td>\n",
       "    </tr>\n",
       "    <tr>\n",
       "      <th>14</th>\n",
       "      <td>SOUTHERN EUROPE</td>\n",
       "      <td>879</td>\n",
       "      <td>151</td>\n",
       "      <td>5.821192</td>\n",
       "    </tr>\n",
       "    <tr>\n",
       "      <th>0</th>\n",
       "      <td>CARIBBEAN</td>\n",
       "      <td>201</td>\n",
       "      <td>40</td>\n",
       "      <td>5.025000</td>\n",
       "    </tr>\n",
       "    <tr>\n",
       "      <th>17</th>\n",
       "      <td>WESTERN EUROPE</td>\n",
       "      <td>699</td>\n",
       "      <td>197</td>\n",
       "      <td>3.548223</td>\n",
       "    </tr>\n",
       "    <tr>\n",
       "      <th>5</th>\n",
       "      <td>EASTERN EUROPE</td>\n",
       "      <td>732</td>\n",
       "      <td>287</td>\n",
       "      <td>2.550523</td>\n",
       "    </tr>\n",
       "    <tr>\n",
       "      <th>16</th>\n",
       "      <td>WESTERN ASIA</td>\n",
       "      <td>684</td>\n",
       "      <td>294</td>\n",
       "      <td>2.326531</td>\n",
       "    </tr>\n",
       "    <tr>\n",
       "      <th>13</th>\n",
       "      <td>SOUTHERN AFRICA</td>\n",
       "      <td>118</td>\n",
       "      <td>68</td>\n",
       "      <td>1.735294</td>\n",
       "    </tr>\n",
       "    <tr>\n",
       "      <th>4</th>\n",
       "      <td>EASTERN AFRICA</td>\n",
       "      <td>646</td>\n",
       "      <td>470</td>\n",
       "      <td>1.374468</td>\n",
       "    </tr>\n",
       "    <tr>\n",
       "      <th>10</th>\n",
       "      <td>SOUTH AMERICA</td>\n",
       "      <td>577</td>\n",
       "      <td>434</td>\n",
       "      <td>1.329493</td>\n",
       "    </tr>\n",
       "    <tr>\n",
       "      <th>15</th>\n",
       "      <td>WESTERN AFRICA</td>\n",
       "      <td>568</td>\n",
       "      <td>430</td>\n",
       "      <td>1.320930</td>\n",
       "    </tr>\n",
       "    <tr>\n",
       "      <th>2</th>\n",
       "      <td>CENTRAL ASIA</td>\n",
       "      <td>103</td>\n",
       "      <td>78</td>\n",
       "      <td>1.320513</td>\n",
       "    </tr>\n",
       "    <tr>\n",
       "      <th>1</th>\n",
       "      <td>CENTRAL AMERICA</td>\n",
       "      <td>193</td>\n",
       "      <td>178</td>\n",
       "      <td>1.084270</td>\n",
       "    </tr>\n",
       "    <tr>\n",
       "      <th>6</th>\n",
       "      <td>MIDDLE AFRICA</td>\n",
       "      <td>203</td>\n",
       "      <td>196</td>\n",
       "      <td>1.035714</td>\n",
       "    </tr>\n",
       "    <tr>\n",
       "      <th>7</th>\n",
       "      <td>NORTHERN AFRICA</td>\n",
       "      <td>227</td>\n",
       "      <td>251</td>\n",
       "      <td>0.904382</td>\n",
       "    </tr>\n",
       "    <tr>\n",
       "      <th>12</th>\n",
       "      <td>SOUTHEAST ASIA</td>\n",
       "      <td>410</td>\n",
       "      <td>560</td>\n",
       "      <td>0.732143</td>\n",
       "    </tr>\n",
       "    <tr>\n",
       "      <th>11</th>\n",
       "      <td>SOUTH ASIA</td>\n",
       "      <td>644</td>\n",
       "      <td>2009</td>\n",
       "      <td>0.320557</td>\n",
       "    </tr>\n",
       "    <tr>\n",
       "      <th>3</th>\n",
       "      <td>EAST ASIA</td>\n",
       "      <td>246</td>\n",
       "      <td>1666</td>\n",
       "      <td>0.147659</td>\n",
       "    </tr>\n",
       "  </tbody>\n",
       "</table>\n",
       "</div>"
      ],
      "text/plain": [
       "             region  article_title  population  articles_per_capita\n",
       "8   NORTHERN EUROPE            261          34             7.676471\n",
       "9           OCEANIA             86          12             7.166667\n",
       "14  SOUTHERN EUROPE            879         151             5.821192\n",
       "0         CARIBBEAN            201          40             5.025000\n",
       "17   WESTERN EUROPE            699         197             3.548223\n",
       "5    EASTERN EUROPE            732         287             2.550523\n",
       "16     WESTERN ASIA            684         294             2.326531\n",
       "13  SOUTHERN AFRICA            118          68             1.735294\n",
       "4    EASTERN AFRICA            646         470             1.374468\n",
       "10    SOUTH AMERICA            577         434             1.329493\n",
       "15   WESTERN AFRICA            568         430             1.320930\n",
       "2      CENTRAL ASIA            103          78             1.320513\n",
       "1   CENTRAL AMERICA            193         178             1.084270\n",
       "6     MIDDLE AFRICA            203         196             1.035714\n",
       "7   NORTHERN AFRICA            227         251             0.904382\n",
       "12   SOUTHEAST ASIA            410         560             0.732143\n",
       "11       SOUTH ASIA            644        2009             0.320557\n",
       "3         EAST ASIA            246        1666             0.147659"
      ]
     },
     "execution_count": 331,
     "metadata": {},
     "output_type": "execute_result"
    }
   ],
   "source": [
    "total_articles = total_articles.sort_values(by = ['articles_per_capita'], ascending = False)\n",
    "total_articles"
   ]
  },
  {
   "cell_type": "markdown",
   "metadata": {},
   "source": [
    "### 6. Geographic regions by high quality coverage: Rank ordered list of geographic regions (in descending order) by high quality articles per capita."
   ]
  },
  {
   "cell_type": "code",
   "execution_count": 332,
   "metadata": {},
   "outputs": [
    {
     "data": {
      "text/html": [
       "<div>\n",
       "<style scoped>\n",
       "    .dataframe tbody tr th:only-of-type {\n",
       "        vertical-align: middle;\n",
       "    }\n",
       "\n",
       "    .dataframe tbody tr th {\n",
       "        vertical-align: top;\n",
       "    }\n",
       "\n",
       "    .dataframe thead th {\n",
       "        text-align: right;\n",
       "    }\n",
       "</style>\n",
       "<table border=\"1\" class=\"dataframe\">\n",
       "  <thead>\n",
       "    <tr style=\"text-align: right;\">\n",
       "      <th></th>\n",
       "      <th>region</th>\n",
       "      <th>article_title</th>\n",
       "      <th>population</th>\n",
       "      <th>articles_per_capita</th>\n",
       "    </tr>\n",
       "  </thead>\n",
       "  <tbody>\n",
       "    <tr>\n",
       "      <th>14</th>\n",
       "      <td>SOUTHERN EUROPE</td>\n",
       "      <td>46</td>\n",
       "      <td>151</td>\n",
       "      <td>0.304636</td>\n",
       "    </tr>\n",
       "    <tr>\n",
       "      <th>8</th>\n",
       "      <td>NORTHERN EUROPE</td>\n",
       "      <td>8</td>\n",
       "      <td>34</td>\n",
       "      <td>0.235294</td>\n",
       "    </tr>\n",
       "    <tr>\n",
       "      <th>0</th>\n",
       "      <td>CARIBBEAN</td>\n",
       "      <td>8</td>\n",
       "      <td>40</td>\n",
       "      <td>0.200000</td>\n",
       "    </tr>\n",
       "    <tr>\n",
       "      <th>9</th>\n",
       "      <td>OCEANIA</td>\n",
       "      <td>2</td>\n",
       "      <td>12</td>\n",
       "      <td>0.166667</td>\n",
       "    </tr>\n",
       "    <tr>\n",
       "      <th>5</th>\n",
       "      <td>EASTERN EUROPE</td>\n",
       "      <td>38</td>\n",
       "      <td>287</td>\n",
       "      <td>0.132404</td>\n",
       "    </tr>\n",
       "    <tr>\n",
       "      <th>17</th>\n",
       "      <td>WESTERN EUROPE</td>\n",
       "      <td>22</td>\n",
       "      <td>197</td>\n",
       "      <td>0.111675</td>\n",
       "    </tr>\n",
       "    <tr>\n",
       "      <th>16</th>\n",
       "      <td>WESTERN ASIA</td>\n",
       "      <td>28</td>\n",
       "      <td>294</td>\n",
       "      <td>0.095238</td>\n",
       "    </tr>\n",
       "    <tr>\n",
       "      <th>13</th>\n",
       "      <td>SOUTHERN AFRICA</td>\n",
       "      <td>4</td>\n",
       "      <td>68</td>\n",
       "      <td>0.058824</td>\n",
       "    </tr>\n",
       "    <tr>\n",
       "      <th>1</th>\n",
       "      <td>CENTRAL AMERICA</td>\n",
       "      <td>10</td>\n",
       "      <td>178</td>\n",
       "      <td>0.056180</td>\n",
       "    </tr>\n",
       "    <tr>\n",
       "      <th>12</th>\n",
       "      <td>SOUTHEAST ASIA</td>\n",
       "      <td>24</td>\n",
       "      <td>560</td>\n",
       "      <td>0.042857</td>\n",
       "    </tr>\n",
       "    <tr>\n",
       "      <th>2</th>\n",
       "      <td>CENTRAL ASIA</td>\n",
       "      <td>3</td>\n",
       "      <td>78</td>\n",
       "      <td>0.038462</td>\n",
       "    </tr>\n",
       "    <tr>\n",
       "      <th>4</th>\n",
       "      <td>EASTERN AFRICA</td>\n",
       "      <td>15</td>\n",
       "      <td>470</td>\n",
       "      <td>0.031915</td>\n",
       "    </tr>\n",
       "    <tr>\n",
       "      <th>15</th>\n",
       "      <td>WESTERN AFRICA</td>\n",
       "      <td>13</td>\n",
       "      <td>430</td>\n",
       "      <td>0.030233</td>\n",
       "    </tr>\n",
       "    <tr>\n",
       "      <th>10</th>\n",
       "      <td>SOUTH AMERICA</td>\n",
       "      <td>13</td>\n",
       "      <td>434</td>\n",
       "      <td>0.029954</td>\n",
       "    </tr>\n",
       "    <tr>\n",
       "      <th>7</th>\n",
       "      <td>NORTHERN AFRICA</td>\n",
       "      <td>7</td>\n",
       "      <td>251</td>\n",
       "      <td>0.027888</td>\n",
       "    </tr>\n",
       "    <tr>\n",
       "      <th>6</th>\n",
       "      <td>MIDDLE AFRICA</td>\n",
       "      <td>5</td>\n",
       "      <td>196</td>\n",
       "      <td>0.025510</td>\n",
       "    </tr>\n",
       "    <tr>\n",
       "      <th>11</th>\n",
       "      <td>SOUTH ASIA</td>\n",
       "      <td>23</td>\n",
       "      <td>2009</td>\n",
       "      <td>0.011448</td>\n",
       "    </tr>\n",
       "    <tr>\n",
       "      <th>3</th>\n",
       "      <td>EAST ASIA</td>\n",
       "      <td>16</td>\n",
       "      <td>1666</td>\n",
       "      <td>0.009604</td>\n",
       "    </tr>\n",
       "  </tbody>\n",
       "</table>\n",
       "</div>"
      ],
      "text/plain": [
       "             region  article_title  population  articles_per_capita\n",
       "14  SOUTHERN EUROPE             46         151             0.304636\n",
       "8   NORTHERN EUROPE              8          34             0.235294\n",
       "0         CARIBBEAN              8          40             0.200000\n",
       "9           OCEANIA              2          12             0.166667\n",
       "5    EASTERN EUROPE             38         287             0.132404\n",
       "17   WESTERN EUROPE             22         197             0.111675\n",
       "16     WESTERN ASIA             28         294             0.095238\n",
       "13  SOUTHERN AFRICA              4          68             0.058824\n",
       "1   CENTRAL AMERICA             10         178             0.056180\n",
       "12   SOUTHEAST ASIA             24         560             0.042857\n",
       "2      CENTRAL ASIA              3          78             0.038462\n",
       "4    EASTERN AFRICA             15         470             0.031915\n",
       "15   WESTERN AFRICA             13         430             0.030233\n",
       "10    SOUTH AMERICA             13         434             0.029954\n",
       "7   NORTHERN AFRICA              7         251             0.027888\n",
       "6     MIDDLE AFRICA              5         196             0.025510\n",
       "11       SOUTH ASIA             23        2009             0.011448\n",
       "3         EAST ASIA             16        1666             0.009604"
      ]
     },
     "execution_count": 332,
     "metadata": {},
     "output_type": "execute_result"
    }
   ],
   "source": [
    "total_articles_h = total_articles_h.sort_values(by = ['articles_per_capita'], ascending = False)\n",
    "total_articles_h"
   ]
  },
  {
   "cell_type": "code",
   "execution_count": null,
   "metadata": {},
   "outputs": [],
   "source": []
  }
 ],
 "metadata": {
  "kernelspec": {
   "display_name": "Python 3",
   "language": "python",
   "name": "python3"
  },
  "language_info": {
   "codemirror_mode": {
    "name": "ipython",
    "version": 3
   },
   "file_extension": ".py",
   "mimetype": "text/x-python",
   "name": "python",
   "nbconvert_exporter": "python",
   "pygments_lexer": "ipython3",
   "version": "3.8.8"
  }
 },
 "nbformat": 4,
 "nbformat_minor": 4
}
